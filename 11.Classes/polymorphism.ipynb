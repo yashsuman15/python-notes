{
 "cells": [
  {
   "cell_type": "markdown",
   "id": "c849037b-b7c9-4ea3-b60f-fd6c78a07634",
   "metadata": {},
   "source": [
    "Polymorphism, in the context of object-oriented programming (OOP), is the ability of a single function, method, or operator to work with different types of objects or data structures. It allows objects of different classes to be treated as objects of a common base class. Polymorphism enhances code flexibility, reusability, and maintainability by enabling code to work with different types without requiring changes to the existing code."
   ]
  },
  {
   "cell_type": "markdown",
   "id": "088b6c60-6e03-4bea-addb-8454e711652f",
   "metadata": {},
   "source": [
    "# Types of Polymorphism:"
   ]
  },
  {
   "cell_type": "markdown",
   "id": "35d44bd2-8078-4064-90d5-51b0019096a0",
   "metadata": {},
   "source": [
    "## Compile-time (Static) Polymorphism:\n",
    "\n",
    "Also known as method overloading or function overloading.\n",
    "\n",
    "Multiple functions or methods with the same name but different parameter types or numbers of parameters."
   ]
  },
  {
   "cell_type": "raw",
   "id": "65777750-728a-46b9-b63e-52dfaffc05d0",
   "metadata": {},
   "source": [
    "class StaticPolymorphism:\n",
    "    def add(self, a, b):\n",
    "        return a + b\n",
    "\n",
    "    def add(self, a, b, c):\n",
    "        return a + b + c\n",
    "\n",
    "obj = StaticPolymorphism()\n",
    "print(obj.add(2, 3))       # Compile-time error (ambiguous)\n",
    "print(obj.add(2, 3, 4))    # Output: 9\n"
   ]
  },
  {
   "cell_type": "markdown",
   "id": "c75c6112-73dd-4445-b424-bf1164aff6ee",
   "metadata": {},
   "source": [
    "## Run-time (Dynamic) Polymorphism:\n",
    "\n",
    "Achieved through method overriding.\n",
    "    \n",
    "The same method is present in both the superclass and the subclass, and the correct method is selected at runtime."
   ]
  },
  {
   "cell_type": "code",
   "execution_count": 4,
   "id": "786830e3-0f6d-4a9b-a74e-bdefc51ea0ab",
   "metadata": {},
   "outputs": [
    {
     "name": "stdout",
     "output_type": "stream",
     "text": [
      "Woof!\n",
      "Meow!\n"
     ]
    }
   ],
   "source": [
    "class Animal:\n",
    "    def make_sound(self):\n",
    "        pass\n",
    "\n",
    "class Dog(Animal):\n",
    "    def make_sound(self):\n",
    "        return \"Woof!\"\n",
    "\n",
    "class Cat(Animal):\n",
    "    def make_sound(self):\n",
    "        return \"Meow!\"\n",
    "\n",
    "def animal_sound(animal):\n",
    "    return animal.make_sound()\n",
    "\n",
    "dog = Dog()\n",
    "cat = Cat()\n",
    "\n",
    "print(animal_sound(dog))  # Output: Woof!\n",
    "print(animal_sound(cat))  # Output: Meow!\n"
   ]
  },
  {
   "cell_type": "markdown",
   "id": "80b5b0d2-241f-466c-964c-66da34661127",
   "metadata": {},
   "source": [
    "## Method Overriding:\n",
    "\n",
    "Involves providing a specific implementation of a method in a subclass that is already defined in its superclass."
   ]
  },
  {
   "cell_type": "code",
   "execution_count": 5,
   "id": "87de4621-d0dd-41c4-8642-62637cfda43f",
   "metadata": {},
   "outputs": [],
   "source": [
    "class Shape:\n",
    "    def area(self):\n",
    "        pass\n",
    "\n",
    "class Circle(Shape):\n",
    "    def __init__(self, radius):\n",
    "        self.radius = radius\n",
    "\n",
    "    def area(self):\n",
    "        return 3.14 * self.radius**2\n"
   ]
  },
  {
   "cell_type": "code",
   "execution_count": null,
   "id": "946a275d-514c-465d-a202-5bda728c7a01",
   "metadata": {},
   "outputs": [],
   "source": []
  }
 ],
 "metadata": {
  "kernelspec": {
   "display_name": "Python 3 (ipykernel)",
   "language": "python",
   "name": "python3"
  },
  "language_info": {
   "codemirror_mode": {
    "name": "ipython",
    "version": 3
   },
   "file_extension": ".py",
   "mimetype": "text/x-python",
   "name": "python",
   "nbconvert_exporter": "python",
   "pygments_lexer": "ipython3",
   "version": "3.11.3"
  },
  "widgets": {
   "application/vnd.jupyter.widget-state+json": {
    "state": {},
    "version_major": 2,
    "version_minor": 0
   }
  }
 },
 "nbformat": 4,
 "nbformat_minor": 5
}

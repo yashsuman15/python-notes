{
 "cells": [
  {
   "cell_type": "markdown",
   "id": "a00ba918-4187-4216-acac-fc8b2ef3aadf",
   "metadata": {},
   "source": [
    "### Class: A blueprint or a template that defines the structure and behavior of objects.\n",
    "### Object: A specific instance of a class, created from the class blueprint.\n",
    "### Instance: A specific occurrence of an object. The terms \"object\" and \"instance\" are often used interchangeably."
   ]
  },
  {
   "cell_type": "markdown",
   "id": "77e01558-8800-4afa-b3d9-33662aa8cbb9",
   "metadata": {},
   "source": [
    "# Basic Class Definition:"
   ]
  },
  {
   "cell_type": "code",
   "execution_count": 30,
   "id": "07d94360-18b3-41fb-aebb-03f38568cd31",
   "metadata": {},
   "outputs": [
    {
     "name": "stdout",
     "output_type": "stream",
     "text": [
      "Method called with attribute: Hello\n"
     ]
    }
   ],
   "source": [
    "class MyClass:\n",
    "    def __init__(self, attribute):\n",
    "        self.attribute = attribute\n",
    "\n",
    "    def method(self):\n",
    "        print(f\"Method called with attribute: {self.attribute}\")\n",
    "\n",
    "# Creating an instance of the class\n",
    "obj = MyClass(\"Hello\")\n",
    "obj.method()\n"
   ]
  },
  {
   "cell_type": "raw",
   "id": "2e92408c-ecd5-45fc-bb73-95420255761b",
   "metadata": {},
   "source": [
    "The purpose of self is to reference the instance itself within the class, allowing you to access and modify instance variables and call other instance methods."
   ]
  },
  {
   "cell_type": "raw",
   "id": "07814c3a-3eec-489e-a157-58797e14cf54",
   "metadata": {},
   "source": [
    "When you create an instance of a class and call a method on that instance, Python automatically passes the instance as the first argument to the method."
   ]
  },
  {
   "cell_type": "raw",
   "id": "d5998e16-844a-4d65-ba2d-beaacba56050",
   "metadata": {},
   "source": [
    "This convention makes it clear which instance the method is working with."
   ]
  },
  {
   "cell_type": "code",
   "execution_count": 2,
   "id": "a974a8af-60ac-4e3c-a05a-348f9dc759a4",
   "metadata": {},
   "outputs": [
    {
     "data": {
      "text/plain": [
       "250000"
      ]
     },
     "execution_count": 2,
     "metadata": {},
     "output_type": "execute_result"
    }
   ],
   "source": [
    "class product:\n",
    "    def __init__(self, price: int , quantity: int, product: str):\n",
    "        assert price > 0, \"price should be greater than zero\"\n",
    "        assert quantity >= 0, \"quantity should greater than or equal to zero\"\n",
    "        \n",
    "        self.price = price\n",
    "        self.quantity = quantity\n",
    "        self.product = product\n",
    "\n",
    "    \n",
    "    def totalprice(self):\n",
    "        return self.price * self.quantity\n",
    "        \n",
    "\n",
    "laptop1 = product(50000 , 5, \"laptop\")\n",
    "laptop1.totalprice()"
   ]
  },
  {
   "cell_type": "raw",
   "id": "515ba8f8-95e6-4bcc-9241-9d05e8f72efb",
   "metadata": {},
   "source": [
    "laptop2 = product(0,10) # price is less than 0\n",
    "# output : AssertionError: price should be greater than zero"
   ]
  },
  {
   "cell_type": "code",
   "execution_count": 3,
   "id": "42c7848d-caef-4925-bee6-d4e169dd6618",
   "metadata": {},
   "outputs": [],
   "source": [
    "class shop:\n",
    "    items = []\n",
    "    def __init__(self, price: int , quantity=0 , product = \"NULL\"):\n",
    "        assert price > 0, \"price should be greater than zero\"\n",
    "        assert quantity >= 0, \"quantity should greater than or equal to zero\"\n",
    "        \n",
    "        self.price = price\n",
    "        self.quantity = quantity\n",
    "        self.product = product\n",
    "\n",
    "        shop.items.append(self)\n",
    "\n",
    "    def totalprice(self):\n",
    "        return self.price * self.quantity\n",
    "\n",
    "    def __repr__(self):\n",
    "        return f\"shop({self.price}, {self.quantity}, {self.product})\""
   ]
  },
  {
   "cell_type": "code",
   "execution_count": 4,
   "id": "81d40ee7-a8a5-4f19-8c49-102131e46151",
   "metadata": {},
   "outputs": [
    {
     "name": "stdout",
     "output_type": "stream",
     "text": [
      "[shop(50000, 15, laptop), shop(400, 50, mouse), shop(5000, 25, phone), shop(15000, 15, desktop), shop(500, 52, speaker)]\n",
      "5\n"
     ]
    }
   ],
   "source": [
    "item1 = shop(50000 , 15, \"laptop\")\n",
    "item2 = shop(400 , 50, \"mouse\")\n",
    "item3 = shop(5000 , 25, \"phone\")\n",
    "item4 = shop(15000 , 15, \"desktop\")\n",
    "item5 = shop(500 , 52, \"speaker\")\n",
    "\n",
    "print(shop.items)\n",
    "print(len(shop.items))\n"
   ]
  },
  {
   "cell_type": "code",
   "execution_count": 9,
   "id": "d4916268-c2e1-4548-b445-86c30342aa8f",
   "metadata": {},
   "outputs": [
    {
     "name": "stdout",
     "output_type": "stream",
     "text": [
      "50000\n",
      "15\n",
      "laptop\n"
     ]
    }
   ],
   "source": [
    "print(item1.price)\n",
    "print(item1.quantity)\n",
    "print(item1.product)"
   ]
  },
  {
   "cell_type": "code",
   "execution_count": 58,
   "id": "57f9e5d0-84d1-4c2e-81d0-96a52bc40089",
   "metadata": {},
   "outputs": [
    {
     "name": "stdout",
     "output_type": "stream",
     "text": [
      "laptop\n",
      "mouse\n",
      "phone\n",
      "desktop\n",
      "speaker\n"
     ]
    }
   ],
   "source": [
    "for instance in shop.items:\n",
    "    print(instance.product)"
   ]
  },
  {
   "cell_type": "code",
   "execution_count": null,
   "id": "a6d6e4b1-615a-4b8f-8f43-187a0779d06b",
   "metadata": {},
   "outputs": [],
   "source": []
  }
 ],
 "metadata": {
  "kernelspec": {
   "display_name": "Python 3 (ipykernel)",
   "language": "python",
   "name": "python3"
  },
  "language_info": {
   "codemirror_mode": {
    "name": "ipython",
    "version": 3
   },
   "file_extension": ".py",
   "mimetype": "text/x-python",
   "name": "python",
   "nbconvert_exporter": "python",
   "pygments_lexer": "ipython3",
   "version": "3.11.3"
  },
  "widgets": {
   "application/vnd.jupyter.widget-state+json": {
    "state": {},
    "version_major": 2,
    "version_minor": 0
   }
  }
 },
 "nbformat": 4,
 "nbformat_minor": 5
}

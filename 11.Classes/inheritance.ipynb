{
 "cells": [
  {
   "cell_type": "markdown",
   "id": "aaa5d63d-788b-49a5-ac61-10c08464e838",
   "metadata": {},
   "source": [
    "# Basic Inheritance Syntax:"
   ]
  },
  {
   "cell_type": "code",
   "execution_count": 1,
   "id": "e27525a5-a1b1-4848-af96-e904b2e03b0f",
   "metadata": {},
   "outputs": [],
   "source": [
    "class BaseClass:\n",
    "    def __init__(self, base_attribute):\n",
    "        self.base_attribute = base_attribute\n",
    "\n",
    "    def base_method(self):\n",
    "        print(\"Base method called.\")\n",
    "\n",
    "class DerivedClass(BaseClass):\n",
    "    def __init__(self, base_attribute, derived_attribute):\n",
    "        super().__init__(base_attribute)\n",
    "        self.derived_attribute = derived_attribute\n",
    "\n",
    "    def derived_method(self):\n",
    "        print(\"Derived method called.\")\n"
   ]
  },
  {
   "cell_type": "raw",
   "id": "7c2e3de3-07a1-4c4e-b1a5-9d53e4393f5a",
   "metadata": {},
   "source": [
    "class DerivedClass(BaseClass): Indicates that DerivedClass inherits from BaseClass.\n",
    "super().__init__(base_attribute): Calls the constructor of the superclass."
   ]
  },
  {
   "cell_type": "raw",
   "id": "c7046225-0301-4350-9d37-f44b42dd5cb5",
   "metadata": {},
   "source": []
  },
  {
   "cell_type": "markdown",
   "id": "49f8351e-3cef-444a-bb84-cd7e9547db96",
   "metadata": {},
   "source": [
    "Single Inheritance:\n",
    "\n",
    "A subclass inherits from only one superclass."
   ]
  },
  {
   "cell_type": "raw",
   "id": "b1ea8dae-7ef6-4d21-982d-1d36c5fbd0e0",
   "metadata": {},
   "source": [
    "class Subclass(Superclass):\n",
    "    # Subclass definition\n"
   ]
  },
  {
   "cell_type": "markdown",
   "id": "377f9e6c-b7fc-4e6c-80d4-b730cf4b248d",
   "metadata": {},
   "source": [
    "Multiple Inheritance:\n",
    "\n",
    "A subclass inherits from more than one superclass."
   ]
  },
  {
   "cell_type": "raw",
   "id": "222e1205-0f5a-4c9d-a722-abd5ce8af4f2",
   "metadata": {},
   "source": [
    "class Subclass(Superclass1, Superclass2, ...):\n",
    "    # Subclass definition\n"
   ]
  },
  {
   "cell_type": "markdown",
   "id": "2a84abf6-0f42-4001-a83e-bff9beaeab71",
   "metadata": {},
   "source": [
    "Multilevel Inheritance:\r\n",
    "\r\n",
    "A subclass inherits from another subclass, forming a chain."
   ]
  },
  {
   "cell_type": "raw",
   "id": "0d4e407c-7161-4b0d-8a56-9106d1249831",
   "metadata": {},
   "source": [
    "class Subclass1(BaseClass):\n",
    "    # Subclass1 definition\n",
    "\n",
    "class Subclass2(Subclass1):\n",
    "    # Subclass2 definition\n"
   ]
  },
  {
   "cell_type": "markdown",
   "id": "6ae26423-c2d5-4e6a-913c-15df06f515bf",
   "metadata": {},
   "source": [
    "Hierarchical Inheritance:\n",
    "\n",
    "Multiple subclasses inherit from a single superclass."
   ]
  },
  {
   "cell_type": "raw",
   "id": "bc7e9a61-c435-4fd9-a84b-4190b9ad249e",
   "metadata": {},
   "source": [
    "class Superclass:\n",
    "    # Superclass definition\n",
    "\n",
    "class Subclass1(Superclass):\n",
    "    # Subclass1 definition\n",
    "\n",
    "class Subclass2(Superclass):\n",
    "    # Subclass2 definition\n"
   ]
  },
  {
   "cell_type": "markdown",
   "id": "ab198fd2-d6b6-4773-ad1d-f8b2b7a50fa3",
   "metadata": {},
   "source": [
    "# Polymorphism through Inheritance:\n",
    "\n",
    "Subclasses can override or extend methods of the superclass.\n",
    "\n",
    "\n",
    "Enables the use of a common interface for different types of objects."
   ]
  },
  {
   "cell_type": "code",
   "execution_count": 4,
   "id": "d5c77220-d403-45d0-97fb-7be1861d9a42",
   "metadata": {},
   "outputs": [],
   "source": [
    "class Shape:\n",
    "    def area(self):\n",
    "        pass\n",
    "\n",
    "class Circle(Shape):\n",
    "    def __init__(self, radius):\n",
    "        self.radius = radius\n",
    "\n",
    "    def area(self):\n",
    "        return 3.14 * self.radius**2\n",
    "\n",
    "class Rectangle(Shape):\n",
    "    def __init__(self, length, width):\n",
    "        self.length = length\n",
    "        self.width = width\n",
    "\n",
    "    def area(self):\n",
    "        return self.length * self.width\n"
   ]
  },
  {
   "cell_type": "code",
   "execution_count": null,
   "id": "19dab6bb-683a-4754-984e-53c17ce3017a",
   "metadata": {},
   "outputs": [],
   "source": []
  }
 ],
 "metadata": {
  "kernelspec": {
   "display_name": "Python 3 (ipykernel)",
   "language": "python",
   "name": "python3"
  },
  "language_info": {
   "codemirror_mode": {
    "name": "ipython",
    "version": 3
   },
   "file_extension": ".py",
   "mimetype": "text/x-python",
   "name": "python",
   "nbconvert_exporter": "python",
   "pygments_lexer": "ipython3",
   "version": "3.11.3"
  },
  "widgets": {
   "application/vnd.jupyter.widget-state+json": {
    "state": {},
    "version_major": 2,
    "version_minor": 0
   }
  }
 },
 "nbformat": 4,
 "nbformat_minor": 5
}

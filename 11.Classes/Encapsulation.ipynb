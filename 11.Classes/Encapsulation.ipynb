{
 "cells": [
  {
   "cell_type": "markdown",
   "id": "a15bb61f-d901-465b-aded-a06799c08f76",
   "metadata": {},
   "source": [
    "# Access Modifiers:\n",
    "\n",
    "Access modifiers control the visibility of attributes and methods in a class."
   ]
  },
  {
   "cell_type": "raw",
   "id": "09d2a638-0208-45b2-a2cc-ecaccab63002",
   "metadata": {},
   "source": [
    "Python uses naming conventions to simulate access modifiers:\n",
    "\n",
    "1.Single underscore (_attribute): Suggests that the attribute is intended for internal use and should be treated as protected.\n",
    "\n",
    "2.Double underscore (__attribute): Causes the Python interpreter to name-mangle the attribute, making it difficult to access from outside the class.\n"
   ]
  },
  {
   "cell_type": "code",
   "execution_count": 1,
   "id": "a7645d19-074f-43a3-9f4d-d64136e42666",
   "metadata": {},
   "outputs": [],
   "source": [
    "class MyClass:\n",
    "    def __init__(self, attribute):\n",
    "        self._attribute = attribute  # Protected attribute\n",
    "        self.__attribute = attribute  # Private attribute\n"
   ]
  },
  {
   "cell_type": "markdown",
   "id": "31da9169-ec9a-474b-a87c-0df487ee3de6",
   "metadata": {},
   "source": [
    "# Getter and Setter Methods:"
   ]
  },
  {
   "cell_type": "raw",
   "id": "c844fcc6-daf0-452a-920f-e8aa283bda08",
   "metadata": {},
   "source": [
    "Encapsulation often involves providing controlled access to the internal state using getter and setter methods.\n",
    "\n",
    "This allows for validation, modification, or additional logic when accessing or updating an attribute."
   ]
  },
  {
   "cell_type": "code",
   "execution_count": 86,
   "id": "3e3af317-7a63-497e-bbfe-24f0e98e2c6a",
   "metadata": {},
   "outputs": [],
   "source": [
    "class MyClass:\n",
    "    def __init__(self, attribute):\n",
    "        self._attribute = attribute\n",
    "\n",
    "    def get_attribute(self):\n",
    "        return self._attribute\n",
    "\n",
    "    def set_attribute(self, value):\n",
    "        # Add validation logic if needed\n",
    "        self._attribute = value\n"
   ]
  },
  {
   "cell_type": "markdown",
   "id": "22b101f1-e7f0-4b9f-b2f8-0c729284a6f4",
   "metadata": {},
   "source": [
    "# Encapsulation for Data Hiding:\n",
    "\n",
    "Encapsulation aims to hide the internal implementation details of a class, promoting data hiding.\n",
    "\n",
    "This reduces dependencies and minimizes the impact of changes within the class on external code."
   ]
  },
  {
   "cell_type": "code",
   "execution_count": 1,
   "id": "2eb58176-e2c4-4e85-a580-edc087deed68",
   "metadata": {},
   "outputs": [
    {
     "name": "stdout",
     "output_type": "stream",
     "text": [
      "Withdrawal successful. Remaining balance: 500\n"
     ]
    }
   ],
   "source": [
    "class BankAccount:\n",
    "    def __init__(self, balance):\n",
    "        self.__balance = balance\n",
    "\n",
    "    def withdraw(self, amount):\n",
    "        if amount <= self.__balance:\n",
    "            self.__balance -= amount\n",
    "            print(f\"Withdrawal successful. Remaining balance: {self.__balance}\")\n",
    "        else:\n",
    "            print(\"Insufficient funds.\")\n",
    "\n",
    "account = BankAccount(1000)\n",
    "account.withdraw(500)  # Withdrawal successful. Remaining balance: 500\n"
   ]
  },
  {
   "cell_type": "markdown",
   "id": "f30a7c02-2e08-443d-9496-895a48a94f89",
   "metadata": {},
   "source": [
    "# Encapsulation and Information Hiding:\n",
    "\n",
    "Encapsulation also involves information hiding, which restricts the access to the internal details of an object."
   ]
  },
  {
   "cell_type": "code",
   "execution_count": 94,
   "id": "171768a4-4d5c-4374-86fe-8492e97bff4c",
   "metadata": {},
   "outputs": [],
   "source": [
    "class Car:\n",
    "    def __init__(self, make, model):\n",
    "        self.__make = make\n",
    "        self.__model = model\n",
    "\n",
    "    def get_make(self):\n",
    "        return self.__make\n",
    "\n",
    "    def get_model(self):\n",
    "        return self.__model\n",
    "\n",
    "my_car = Car(\"Toyota\", \"Camry\")"
   ]
  },
  {
   "cell_type": "code",
   "execution_count": 95,
   "id": "473cfe92-c778-4363-b27c-47c18b3349c1",
   "metadata": {},
   "outputs": [
    {
     "name": "stdout",
     "output_type": "stream",
     "text": [
      "Toyota\n"
     ]
    }
   ],
   "source": [
    "print(my_car.get_make())  # Accessing make through a getter method"
   ]
  },
  {
   "cell_type": "code",
   "execution_count": null,
   "id": "6d6e9cda-91c7-4b61-a958-0627372bc0bd",
   "metadata": {},
   "outputs": [],
   "source": []
  }
 ],
 "metadata": {
  "kernelspec": {
   "display_name": "Python 3 (ipykernel)",
   "language": "python",
   "name": "python3"
  },
  "language_info": {
   "codemirror_mode": {
    "name": "ipython",
    "version": 3
   },
   "file_extension": ".py",
   "mimetype": "text/x-python",
   "name": "python",
   "nbconvert_exporter": "python",
   "pygments_lexer": "ipython3",
   "version": "3.11.3"
  },
  "widgets": {
   "application/vnd.jupyter.widget-state+json": {
    "state": {},
    "version_major": 2,
    "version_minor": 0
   }
  }
 },
 "nbformat": 4,
 "nbformat_minor": 5
}

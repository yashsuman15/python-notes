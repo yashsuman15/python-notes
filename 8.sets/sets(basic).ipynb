{
 "cells": [
  {
   "cell_type": "markdown",
   "id": "4411f16d-4590-4a86-91f8-8c365e98bd30",
   "metadata": {},
   "source": [
    "# Creating Sets:"
   ]
  },
  {
   "cell_type": "code",
   "execution_count": 1,
   "id": "dd1d87c1-886e-4643-8a8a-876beec96472",
   "metadata": {},
   "outputs": [],
   "source": [
    "my_set = {1, 2, 3}\n",
    "empty_set = set()\n",
    "another_set = set([4, 5, 6])"
   ]
  },
  {
   "cell_type": "raw",
   "id": "1939b557-d6fa-4c5b-a027-100da33b70cf",
   "metadata": {},
   "source": [
    "# This is valid\n",
    "my_set.add((4, 5, 6))\n",
    "\n",
    "# This will raise an error\n",
    "my_set.add([4, 5, 6])\n"
   ]
  },
  {
   "cell_type": "markdown",
   "id": "5def1639-7c07-4e46-bb59-8c85f07308fa",
   "metadata": {},
   "source": [
    "# Set Operations:"
   ]
  },
  {
   "cell_type": "code",
   "execution_count": 3,
   "id": "2fc3d9ef-5c76-4dd7-8ffd-9d3dfe7cbf10",
   "metadata": {},
   "outputs": [],
   "source": [
    "set1 = {1, 2, 3}\n",
    "set2 = {2, 3, 4}\n",
    "union_set = set1 | set2\n",
    "intersection_set = set1 & set2\n",
    "difference_set = set1 - set2\n",
    "symmetric_difference_set = set1 ^ set2\n"
   ]
  },
  {
   "cell_type": "markdown",
   "id": "ae860d15-93f9-4f3b-8854-c8f3eee969f2",
   "metadata": {},
   "source": [
    "# Set Comprehensions:"
   ]
  },
  {
   "cell_type": "code",
   "execution_count": 5,
   "id": "9dec9434-d1e2-4d30-bf8d-61b835b51d5d",
   "metadata": {},
   "outputs": [
    {
     "data": {
      "text/plain": [
       "{1, 4, 9, 16, 25}"
      ]
     },
     "execution_count": 5,
     "metadata": {},
     "output_type": "execute_result"
    }
   ],
   "source": [
    "{x**2 for x in range(1, 6)}"
   ]
  },
  {
   "cell_type": "markdown",
   "id": "3e2509fa-556c-458b-8866-dea45ee2f994",
   "metadata": {},
   "source": [
    "# Frozen Sets:"
   ]
  },
  {
   "cell_type": "markdown",
   "id": "a11e76f2-096e-4fb4-8137-2dad56d61721",
   "metadata": {},
   "source": [
    "A frozenset is an immutable version of a set, and it can be used as a key in dictionaries."
   ]
  },
  {
   "cell_type": "code",
   "execution_count": 6,
   "id": "0188b98a-7f9d-4e39-9ca6-a4ac48c0e60b",
   "metadata": {},
   "outputs": [],
   "source": [
    "frozen_set = frozenset([1, 2, 3])\n"
   ]
  },
  {
   "cell_type": "markdown",
   "id": "e6cbeb58-4611-4c20-8d53-1dfbbc5d7df0",
   "metadata": {},
   "source": [
    "# sets methods"
   ]
  },
  {
   "cell_type": "code",
   "execution_count": 8,
   "id": "3fb120ab-b8ab-4b57-b8d2-670969e64491",
   "metadata": {},
   "outputs": [],
   "source": [
    "my_set.remove(2)\n",
    "my_set.discard(3)\n",
    "popped_element = my_set.pop()\n"
   ]
  },
  {
   "cell_type": "code",
   "execution_count": 9,
   "id": "4e7ee389-92ab-450b-830e-50d0ad9b908f",
   "metadata": {},
   "outputs": [],
   "source": [
    "my_set.clear()\n",
    "copy_of_set = my_set.copy()\n"
   ]
  },
  {
   "cell_type": "code",
   "execution_count": 10,
   "id": "ab93314c-3bdf-4b16-85d1-8d6303ed6703",
   "metadata": {},
   "outputs": [],
   "source": [
    "my_set.update({7, 8, 9})\n"
   ]
  },
  {
   "cell_type": "code",
   "execution_count": null,
   "id": "19c99463-f8af-4d91-ac6b-4934edf8f19f",
   "metadata": {},
   "outputs": [],
   "source": []
  }
 ],
 "metadata": {
  "kernelspec": {
   "display_name": "Python 3 (ipykernel)",
   "language": "python",
   "name": "python3"
  },
  "language_info": {
   "codemirror_mode": {
    "name": "ipython",
    "version": 3
   },
   "file_extension": ".py",
   "mimetype": "text/x-python",
   "name": "python",
   "nbconvert_exporter": "python",
   "pygments_lexer": "ipython3",
   "version": "3.11.3"
  }
 },
 "nbformat": 4,
 "nbformat_minor": 5
}

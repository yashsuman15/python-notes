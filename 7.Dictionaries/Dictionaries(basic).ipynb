{
 "cells": [
  {
   "cell_type": "markdown",
   "id": "85f53e06-aedf-4513-9757-bcc19849ebf3",
   "metadata": {},
   "source": [
    "# Creating Dictionaries:"
   ]
  },
  {
   "cell_type": "code",
   "execution_count": 19,
   "id": "943bdcb4-73f6-434b-9b88-c9515a4189ea",
   "metadata": {},
   "outputs": [],
   "source": [
    "my_dict = {'name': 'John', 'age': 25, 'city': 'New York'}\n",
    "empty_dict = {}"
   ]
  },
  {
   "cell_type": "code",
   "execution_count": 20,
   "id": "0fb34dc9-fe38-4ec2-b375-f5445b1be450",
   "metadata": {},
   "outputs": [
    {
     "data": {
      "text/plain": [
       "{'a': 1, 'b': 2, 'c': 3}"
      ]
     },
     "execution_count": 20,
     "metadata": {},
     "output_type": "execute_result"
    }
   ],
   "source": [
    "dict(zip(['a', 'b', 'c'], [1, 2, 3]))"
   ]
  },
  {
   "cell_type": "code",
   "execution_count": 21,
   "id": "c7aa9908-7e33-4763-bd3c-7dd718650ca4",
   "metadata": {},
   "outputs": [
    {
     "name": "stdout",
     "output_type": "stream",
     "text": [
      "John\n"
     ]
    }
   ],
   "source": [
    "print(my_dict['name'])  # Output: John\n",
    "my_dict['age'] = 26  # Modify value"
   ]
  },
  {
   "cell_type": "markdown",
   "id": "d6c3aa07-a434-40c2-bdb4-39b3d01e6ea6",
   "metadata": {},
   "source": [
    "# Dictionary Methods:"
   ]
  },
  {
   "cell_type": "code",
   "execution_count": 22,
   "id": "52364e45-dcb8-4030-9750-faa52189e36c",
   "metadata": {},
   "outputs": [],
   "source": [
    "value = my_dict.get('name', 'Default')  # Get with default value"
   ]
  },
  {
   "cell_type": "code",
   "execution_count": 23,
   "id": "9b431de0-a654-4b15-b68c-25b7097713c8",
   "metadata": {},
   "outputs": [
    {
     "data": {
      "text/plain": [
       "dict_items([('name', 'John'), ('age', 26), ('city', 'New York')])"
      ]
     },
     "execution_count": 23,
     "metadata": {},
     "output_type": "execute_result"
    }
   ],
   "source": [
    "my_dict.items()"
   ]
  },
  {
   "cell_type": "code",
   "execution_count": 24,
   "id": "6002bde3-87b7-4436-970a-ad8022d8b579",
   "metadata": {},
   "outputs": [
    {
     "data": {
      "text/plain": [
       "dict_keys(['name', 'age', 'city'])"
      ]
     },
     "execution_count": 24,
     "metadata": {},
     "output_type": "execute_result"
    }
   ],
   "source": [
    "my_dict.keys()"
   ]
  },
  {
   "cell_type": "code",
   "execution_count": 25,
   "id": "49542143-6338-4c93-b726-b13176cfad5a",
   "metadata": {},
   "outputs": [
    {
     "data": {
      "text/plain": [
       "dict_values(['John', 26, 'New York'])"
      ]
     },
     "execution_count": 25,
     "metadata": {},
     "output_type": "execute_result"
    }
   ],
   "source": [
    "my_dict.values()"
   ]
  },
  {
   "cell_type": "code",
   "execution_count": 26,
   "id": "02051495-999c-43da-b226-88ef2b71bf89",
   "metadata": {},
   "outputs": [
    {
     "data": {
      "text/plain": [
       "'New York'"
      ]
     },
     "execution_count": 26,
     "metadata": {},
     "output_type": "execute_result"
    }
   ],
   "source": [
    "my_dict.pop('city')"
   ]
  },
  {
   "cell_type": "markdown",
   "id": "96fd9819-e34b-423b-9061-38a4851965c7",
   "metadata": {},
   "source": [
    "# Dictionary Comprehensions:"
   ]
  },
  {
   "cell_type": "code",
   "execution_count": 29,
   "id": "886995c9-f78c-4ac8-950c-9d9637f4a172",
   "metadata": {},
   "outputs": [],
   "source": [
    "ex_dict = dict(zip(['a', 'b', 'c'], [1, 2, 3]))"
   ]
  },
  {
   "cell_type": "code",
   "execution_count": 31,
   "id": "9e3ed3a8-4466-4e5e-ad9f-11e0f06e2da6",
   "metadata": {},
   "outputs": [
    {
     "data": {
      "text/plain": [
       "{'a': 1, 'b': 2, 'c': 3}"
      ]
     },
     "execution_count": 31,
     "metadata": {},
     "output_type": "execute_result"
    }
   ],
   "source": [
    "dict(zip(['a', 'b', 'c'], [1, 2, 3]))"
   ]
  },
  {
   "cell_type": "code",
   "execution_count": 30,
   "id": "e2d34b85-5d73-4eb7-8817-0ed91c349b60",
   "metadata": {},
   "outputs": [
    {
     "data": {
      "text/plain": [
       "{'a': 1, 'b': 4, 'c': 9}"
      ]
     },
     "execution_count": 30,
     "metadata": {},
     "output_type": "execute_result"
    }
   ],
   "source": [
    "{key: value**2 for key, value in ex_dict.items()}"
   ]
  },
  {
   "cell_type": "code",
   "execution_count": null,
   "id": "3076d6d5-72ca-4636-9bf2-2e8a732889b6",
   "metadata": {},
   "outputs": [],
   "source": []
  }
 ],
 "metadata": {
  "kernelspec": {
   "display_name": "Python 3 (ipykernel)",
   "language": "python",
   "name": "python3"
  },
  "language_info": {
   "codemirror_mode": {
    "name": "ipython",
    "version": 3
   },
   "file_extension": ".py",
   "mimetype": "text/x-python",
   "name": "python",
   "nbconvert_exporter": "python",
   "pygments_lexer": "ipython3",
   "version": "3.11.3"
  }
 },
 "nbformat": 4,
 "nbformat_minor": 5
}

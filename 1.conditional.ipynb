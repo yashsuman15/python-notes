{
 "cells": [
  {
   "cell_type": "markdown",
   "id": "2912bb77-2c45-46fa-8922-20dd7addfa0b",
   "metadata": {},
   "source": [
    "# Conditional"
   ]
  },
  {
   "cell_type": "markdown",
   "id": "401778c0-0e65-4854-9132-e9d899d48974",
   "metadata": {},
   "source": [
    "## if statement:"
   ]
  },
  {
   "cell_type": "code",
   "execution_count": 1,
   "id": "9aff89b8-728f-4850-9a2c-e42397c47e34",
   "metadata": {},
   "outputs": [
    {
     "name": "stdout",
     "output_type": "stream",
     "text": [
      "x is greater than 5\n"
     ]
    }
   ],
   "source": [
    "# Basic if statement\n",
    "x = 10\n",
    "\n",
    "if x > 5:\n",
    "    print(\"x is greater than 5\")"
   ]
  },
  {
   "cell_type": "markdown",
   "id": "5ea16909-d313-4353-837c-b9f20b7556f5",
   "metadata": {},
   "source": [
    "## if-else statement:"
   ]
  },
  {
   "cell_type": "code",
   "execution_count": 2,
   "id": "d57218d5-7017-455e-ac90-3f5deb473cd7",
   "metadata": {},
   "outputs": [
    {
     "name": "stdout",
     "output_type": "stream",
     "text": [
      "x is not greater than 5\n"
     ]
    }
   ],
   "source": [
    "# if-else statement\n",
    "x = 3\n",
    "\n",
    "if x > 5:\n",
    "    print(\"x is greater than 5\")\n",
    "else:\n",
    "    print(\"x is not greater than 5\")"
   ]
  },
  {
   "cell_type": "markdown",
   "id": "7cf43793-4936-4338-a8e7-85bbac7c4ff5",
   "metadata": {},
   "source": [
    "## if-elif-else statement:"
   ]
  },
  {
   "cell_type": "code",
   "execution_count": 3,
   "id": "9d952b11-c4da-455f-bc5e-57176415e5ab",
   "metadata": {},
   "outputs": [
    {
     "name": "stdout",
     "output_type": "stream",
     "text": [
      "x is equal to 5\n"
     ]
    }
   ],
   "source": [
    "# if-elif-else statement\n",
    "x = 5\n",
    "\n",
    "if x > 5:\n",
    "    print(\"x is greater than 5\")\n",
    "elif x == 5:\n",
    "    print(\"x is equal to 5\")\n",
    "else:\n",
    "    print(\"x is less than 5\")"
   ]
  },
  {
   "cell_type": "markdown",
   "id": "8a28e853-d3a0-4937-8bf9-880f2dd2ea3b",
   "metadata": {},
   "source": [
    "## Nested if statements:"
   ]
  },
  {
   "cell_type": "code",
   "execution_count": 4,
   "id": "1362ef6b-9177-4ad8-8152-a104de57c73c",
   "metadata": {},
   "outputs": [
    {
     "name": "stdout",
     "output_type": "stream",
     "text": [
      "x is greater than 5\n",
      "y is greater than 2\n"
     ]
    }
   ],
   "source": [
    "# Nested if statements\n",
    "x = 10\n",
    "y = 5\n",
    "\n",
    "if x > 5:\n",
    "    print(\"x is greater than 5\")\n",
    "    \n",
    "    if y > 2:\n",
    "        print(\"y is greater than 2\")\n",
    "    else:\n",
    "        print(\"y is not greater than 2\")\n",
    "else:\n",
    "    print(\"x is not greater than 5\")\n"
   ]
  },
  {
   "cell_type": "markdown",
   "id": "3c366893-ee16-40a8-97a4-0e509263753e",
   "metadata": {},
   "source": [
    "## Ternary conditional expression:"
   ]
  },
  {
   "cell_type": "code",
   "execution_count": 6,
   "id": "ca019fe2-8996-430e-8870-0c9f95cddbcd",
   "metadata": {},
   "outputs": [
    {
     "name": "stdout",
     "output_type": "stream",
     "text": [
      "x is greater than 5\n"
     ]
    }
   ],
   "source": [
    "# Ternary conditional expression\n",
    "x = 10\n",
    "\n",
    "result = \"x is greater than 5\" if x > 5 else \"x is not greater than 5\"\n",
    "print(result)"
   ]
  },
  {
   "cell_type": "code",
   "execution_count": null,
   "id": "e389efaa-e625-4363-81c3-02e8c2633107",
   "metadata": {},
   "outputs": [],
   "source": []
  }
 ],
 "metadata": {
  "kernelspec": {
   "display_name": "Python 3 (ipykernel)",
   "language": "python",
   "name": "python3"
  },
  "language_info": {
   "codemirror_mode": {
    "name": "ipython",
    "version": 3
   },
   "file_extension": ".py",
   "mimetype": "text/x-python",
   "name": "python",
   "nbconvert_exporter": "python",
   "pygments_lexer": "ipython3",
   "version": "3.11.3"
  }
 },
 "nbformat": 4,
 "nbformat_minor": 5
}

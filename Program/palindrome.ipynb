{
 "cells": [
  {
   "cell_type": "markdown",
   "id": "e1f275e6-1a33-4c78-8504-7a3c40cb4bee",
   "metadata": {},
   "source": [
    "# PALINDROME"
   ]
  },
  {
   "cell_type": "code",
   "execution_count": 7,
   "id": "f6f7c254-3e73-47de-9390-2f23069d77b9",
   "metadata": {},
   "outputs": [
    {
     "name": "stdin",
     "output_type": "stream",
     "text": [
      "enter the string asddsa\n"
     ]
    },
    {
     "name": "stdout",
     "output_type": "stream",
     "text": [
      "string is palindrome\n"
     ]
    }
   ],
   "source": [
    "word = input(str(\"enter the string\"))\n",
    "\n",
    "if word == word[::-1]:\n",
    "    print(\"string is palindrome\")\n",
    "else:\n",
    "    print(\"not palindrome\")"
   ]
  },
  {
   "cell_type": "code",
   "execution_count": null,
   "id": "4c9ffd57-963e-4c9b-a3ce-7b87391a0a04",
   "metadata": {},
   "outputs": [],
   "source": []
  },
  {
   "cell_type": "code",
   "execution_count": null,
   "id": "b1e2637a-6685-49e7-bcda-b80ca5f9f29f",
   "metadata": {},
   "outputs": [],
   "source": []
  }
 ],
 "metadata": {
  "kernelspec": {
   "display_name": "Python 3 (ipykernel)",
   "language": "python",
   "name": "python3"
  },
  "language_info": {
   "codemirror_mode": {
    "name": "ipython",
    "version": 3
   },
   "file_extension": ".py",
   "mimetype": "text/x-python",
   "name": "python",
   "nbconvert_exporter": "python",
   "pygments_lexer": "ipython3",
   "version": "3.11.3"
  }
 },
 "nbformat": 4,
 "nbformat_minor": 5
}

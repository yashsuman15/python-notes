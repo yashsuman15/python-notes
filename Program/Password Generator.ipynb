{
 "cells": [
  {
   "cell_type": "markdown",
   "id": "8fa8cad4-adeb-4471-9d5b-4d62c645bfc4",
   "metadata": {},
   "source": [
    "# PASSWORD GENERATOR"
   ]
  },
  {
   "cell_type": "code",
   "execution_count": 5,
   "id": "d5cbdbe3-70e1-4bce-ad35-8fec288ed09b",
   "metadata": {},
   "outputs": [],
   "source": [
    "import random as rd"
   ]
  },
  {
   "cell_type": "code",
   "execution_count": 6,
   "id": "be6b4786-ee57-46c7-97da-e4348c6d9cd1",
   "metadata": {},
   "outputs": [],
   "source": [
    "def generate_password(limit =8):\n",
    "    upper_letter = \"ABCDEFGHIJKLMNOPQRSTUVWXYZ\"\n",
    "    lower_letter = \"abcdefghijklmnopqrstuvwxyz\"\n",
    "    numbers = \"1234567890\"\n",
    "    symbol = \"!@#$%&*+\"\n",
    "\n",
    "    if limit <= 12:\n",
    "        password_outline = [rd.choice(list(upper_letter)),\n",
    "                            rd.choice(list(upper_letter)),\n",
    "                            rd.choice(list(upper_letter)),\n",
    "                            rd.choice(list(lower_letter)),\n",
    "                            rd.choice(list(lower_letter)),\n",
    "                            rd.choice(list(lower_letter)),\n",
    "                            rd.choice(list(numbers)),\n",
    "                            rd.choice(list(numbers)),\n",
    "                            rd.choice(list(numbers)),\n",
    "                            rd.choice(list(symbol)),\n",
    "                            rd.choice(list(symbol)),\n",
    "                            rd.choice(list(symbol)),\n",
    "                           ]\n",
    "        rd.shuffle(password_outline)\n",
    "        sample_password = rd.sample(password_outline, limit)\n",
    "        # print(sample_password)\n",
    "        password = \"\".join(sample_password)\n",
    "        print(password)\n",
    "    elif limit > 12:\n",
    "        print(\"password can be upto to 12 char\")\n",
    "    else:\n",
    "        print(\"invalid value\")\n",
    "        "
   ]
  },
  {
   "cell_type": "code",
   "execution_count": 7,
   "id": "845d1b32-f948-432b-984e-e7b5fc7f1380",
   "metadata": {},
   "outputs": [
    {
     "name": "stdout",
     "output_type": "stream",
     "text": [
      "0#%\n"
     ]
    }
   ],
   "source": [
    "generate_password(3)"
   ]
  },
  {
   "cell_type": "code",
   "execution_count": 8,
   "id": "7bf2ba3d-7282-4725-937c-1bab0a77a61b",
   "metadata": {},
   "outputs": [
    {
     "name": "stdout",
     "output_type": "stream",
     "text": [
      "5\n",
      "G&\n",
      "#lT\n",
      "3%X8\n",
      "+uv98\n",
      "m15S!u\n",
      "1p&onLK\n",
      "ojb%G0$!\n",
      "N%J#*Cy7w\n",
      "7E8l**!bKW\n",
      "*35J$Af*8gi\n",
      "#33@sIPhX1#f\n",
      "password can be upto to 12 char\n"
     ]
    }
   ],
   "source": [
    "for x in range(13):\n",
    "    generate_password(x+1)"
   ]
  },
  {
   "cell_type": "code",
   "execution_count": null,
   "id": "f2512e28-cefa-46ae-b2af-a536f0c83314",
   "metadata": {},
   "outputs": [],
   "source": []
  }
 ],
 "metadata": {
  "kernelspec": {
   "display_name": "Python 3 (ipykernel)",
   "language": "python",
   "name": "python3"
  },
  "language_info": {
   "codemirror_mode": {
    "name": "ipython",
    "version": 3
   },
   "file_extension": ".py",
   "mimetype": "text/x-python",
   "name": "python",
   "nbconvert_exporter": "python",
   "pygments_lexer": "ipython3",
   "version": "3.11.3"
  },
  "widgets": {
   "application/vnd.jupyter.widget-state+json": {
    "state": {},
    "version_major": 2,
    "version_minor": 0
   }
  }
 },
 "nbformat": 4,
 "nbformat_minor": 5
}

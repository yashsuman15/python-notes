{
 "cells": [
  {
   "cell_type": "markdown",
   "id": "4eda4581-f130-4186-bba8-3f55e795adff",
   "metadata": {},
   "source": [
    "# Arithmetic Operators:"
   ]
  },
  {
   "cell_type": "code",
   "execution_count": 1,
   "id": "3ec2ba41-8da3-469b-b33b-385dcd3a2b6e",
   "metadata": {},
   "outputs": [],
   "source": [
    "a = 10\n",
    "b = 5\n",
    "c = a + b   # Addition\n",
    "d = a - b   # Subtraction\n",
    "e = a * b   # Multiplication\n",
    "f = a / b   # Division\n",
    "g = a % b   # Modulus (remainder)\n",
    "h = a ** b  # Exponentiation\n",
    "i = a // b  # Floor Division"
   ]
  },
  {
   "cell_type": "markdown",
   "id": "3d6a66a9-6072-42e2-b34c-156260c53096",
   "metadata": {},
   "source": [
    "# Comparison Operators:\r\n"
   ]
  },
  {
   "cell_type": "code",
   "execution_count": null,
   "id": "2255f909-4681-4767-a9c1-b3e0aa69097c",
   "metadata": {},
   "outputs": [],
   "source": [
    "a = 10\n",
    "b = 5\n",
    "c = (a == b)   # Equal to\n",
    "d = (a != b)   # Not equal to\n",
    "e = (a > b)    # Greater than\n",
    "f = (a < b)    # Less than\n",
    "g = (a >= b)   # Greater than or equal to\n",
    "h = (a <= b)   # Less than or equal to"
   ]
  },
  {
   "cell_type": "markdown",
   "id": "e3a18780-964d-46ce-91e2-cbb164158d20",
   "metadata": {},
   "source": [
    "# Logical Operators:"
   ]
  },
  {
   "cell_type": "code",
   "execution_count": null,
   "id": "56951fdd-cd6b-4b4a-8f8f-4cd5a3f645ac",
   "metadata": {},
   "outputs": [],
   "source": [
    "a = True\n",
    "b = False\n",
    "c = (a and b)   # Logical AND\n",
    "d = (a or b)    # Logical OR\n",
    "e = not a       # Logical NOT"
   ]
  },
  {
   "cell_type": "markdown",
   "id": "1525501e-cdad-4d5d-a85c-152aaf3aa5f3",
   "metadata": {},
   "source": [
    "# Assignment Operators:"
   ]
  },
  {
   "cell_type": "code",
   "execution_count": 2,
   "id": "67950305-4e78-4ed5-bf0c-d7ed534be03f",
   "metadata": {},
   "outputs": [],
   "source": [
    "a = 10\n",
    "b = 5\n",
    "a += b   # Equivalent to a = a + b\n",
    "a -= b   # Equivalent to a = a - b\n",
    "a *= b   # Equivalent to a = a * b\n",
    "a /= b   # Equivalent to a = a / b\n",
    "a %= b   # Equivalent to a = a % b\n",
    "a **= b  # Equivalent to a = a ** b\n",
    "a //= b  # Equivalent to a = a // b"
   ]
  },
  {
   "cell_type": "markdown",
   "id": "8f14184e-4ad8-4a4f-8f4c-de05b9d5290d",
   "metadata": {},
   "source": [
    "# Identity Operators:"
   ]
  },
  {
   "cell_type": "code",
   "execution_count": 3,
   "id": "e079cdd6-893d-4072-93bf-1ed80af06d67",
   "metadata": {},
   "outputs": [],
   "source": [
    "a = 10\n",
    "b = 10\n",
    "c = (a is b)     # True if a and b reference the same object\n",
    "d = (a is not b) # True if a and b reference different objects"
   ]
  },
  {
   "cell_type": "markdown",
   "id": "713f6d06-d5c9-4089-aa35-b1e3f20390c7",
   "metadata": {},
   "source": [
    "# Membership Operators:"
   ]
  },
  {
   "cell_type": "code",
   "execution_count": 4,
   "id": "24f5a00d-993b-46b6-9617-40058b607dca",
   "metadata": {},
   "outputs": [],
   "source": [
    "a = [1, 2, 3]\n",
    "b = 2\n",
    "c = (b in a)      # True if b is in a\n",
    "d = (b not in a)  # True if b is not in a"
   ]
  },
  {
   "cell_type": "code",
   "execution_count": null,
   "id": "61d1f3c5-1315-4f05-9b37-a0f7d01bc547",
   "metadata": {},
   "outputs": [],
   "source": []
  }
 ],
 "metadata": {
  "kernelspec": {
   "display_name": "Python 3 (ipykernel)",
   "language": "python",
   "name": "python3"
  },
  "language_info": {
   "codemirror_mode": {
    "name": "ipython",
    "version": 3
   },
   "file_extension": ".py",
   "mimetype": "text/x-python",
   "name": "python",
   "nbconvert_exporter": "python",
   "pygments_lexer": "ipython3",
   "version": "3.11.3"
  }
 },
 "nbformat": 4,
 "nbformat_minor": 5
}

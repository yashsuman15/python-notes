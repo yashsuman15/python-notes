{
 "cells": [
  {
   "cell_type": "markdown",
   "id": "99e8226f-78cd-4ff0-b2f2-d35903f547d1",
   "metadata": {},
   "source": [
    "# Creation and Initialization:"
   ]
  },
  {
   "cell_type": "code",
   "execution_count": 2,
   "id": "18a1654f-a8e1-41b7-8165-4ce84b34699c",
   "metadata": {},
   "outputs": [],
   "source": [
    "my_list = [1, 2, 3, 'four', 5.0]"
   ]
  },
  {
   "cell_type": "markdown",
   "id": "bf732871-27c4-4fe3-9c5d-c997b60fd935",
   "metadata": {},
   "source": [
    "# Mutability:"
   ]
  },
  {
   "cell_type": "code",
   "execution_count": 5,
   "id": "3f81f985-4306-4094-8916-8c0550c05be6",
   "metadata": {},
   "outputs": [],
   "source": [
    "my_list[2] = 'new_value'         # Modify an existing element\n",
    "my_list.append(6)                 # Add a new element to the end\n",
    "del my_list[3]                    # Delete an element by index\n"
   ]
  },
  {
   "cell_type": "markdown",
   "id": "ca5fbdcb-c751-4910-87c1-8dfbec7c4570",
   "metadata": {},
   "source": [
    " # Built-in Functions:"
   ]
  },
  {
   "cell_type": "code",
   "execution_count": null,
   "id": "97f86e2d-840a-4001-b209-c6317d25e8a6",
   "metadata": {},
   "outputs": [],
   "source": [
    "len(my_list)             # Get the length of the list"
   ]
  },
  {
   "cell_type": "code",
   "execution_count": 8,
   "id": "ea1e183f-7470-4c76-a985-43948cb59053",
   "metadata": {},
   "outputs": [
    {
     "data": {
      "text/plain": [
       "55"
      ]
     },
     "execution_count": 8,
     "metadata": {},
     "output_type": "execute_result"
    }
   ],
   "source": [
    "ex_list = [1,2,3,4,5,6,7,8,9,10]\n",
    "sum(ex_list)    # Sum of all elements in the list"
   ]
  },
  {
   "cell_type": "markdown",
   "id": "dd695cc9-b618-44f1-9d63-eca5d2a746bd",
   "metadata": {},
   "source": [
    " # Nested Lists:"
   ]
  },
  {
   "cell_type": "code",
   "execution_count": 9,
   "id": "95cf682d-5008-40f4-8210-43ebc9b8dd77",
   "metadata": {},
   "outputs": [],
   "source": [
    "nested_list = [[1, 2, 3], [4, 5, 6]]\n"
   ]
  },
  {
   "cell_type": "code",
   "execution_count": null,
   "id": "49af400e-7173-4817-8752-6ac399626fda",
   "metadata": {},
   "outputs": [],
   "source": []
  }
 ],
 "metadata": {
  "kernelspec": {
   "display_name": "Python 3 (ipykernel)",
   "language": "python",
   "name": "python3"
  },
  "language_info": {
   "codemirror_mode": {
    "name": "ipython",
    "version": 3
   },
   "file_extension": ".py",
   "mimetype": "text/x-python",
   "name": "python",
   "nbconvert_exporter": "python",
   "pygments_lexer": "ipython3",
   "version": "3.11.3"
  }
 },
 "nbformat": 4,
 "nbformat_minor": 5
}

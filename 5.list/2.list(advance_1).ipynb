{
 "cells": [
  {
   "cell_type": "markdown",
   "id": "7c8b97c5-c1f0-4d54-a50f-684f7231aba7",
   "metadata": {},
   "source": [
    "# List Comprehension:"
   ]
  },
  {
   "cell_type": "markdown",
   "id": "7f47c8c6-ae21-4861-a315-b5648f7155c7",
   "metadata": {},
   "source": [
    "List comprehensions provide a concise way to create lists in a single line"
   ]
  },
  {
   "cell_type": "code",
   "execution_count": 2,
   "id": "098f2e4d-823b-4e7b-ad8c-963a4c502627",
   "metadata": {},
   "outputs": [
    {
     "data": {
      "text/plain": [
       "[0, 1, 4, 9, 16]"
      ]
     },
     "execution_count": 2,
     "metadata": {},
     "output_type": "execute_result"
    }
   ],
   "source": [
    "[x**2 for x in range(5)]  # [0, 1, 4, 9, 16]"
   ]
  },
  {
   "cell_type": "code",
   "execution_count": 3,
   "id": "e0503312-933e-4ea1-9018-9d301357c5cd",
   "metadata": {},
   "outputs": [
    {
     "data": {
      "text/plain": [
       "[0, 4, 16, 36, 64]"
      ]
     },
     "execution_count": 3,
     "metadata": {},
     "output_type": "execute_result"
    }
   ],
   "source": [
    "[x**2 for x in range(10) if x % 2 == 0]  # [0, 4, 16, 36, 64]"
   ]
  },
  {
   "cell_type": "markdown",
   "id": "ebefbe64-27c6-4f1f-bdd1-b191573770f5",
   "metadata": {},
   "source": [
    "# Zip Function:"
   ]
  },
  {
   "cell_type": "markdown",
   "id": "3ed724fb-20c1-47f9-b4aa-521826bba5f2",
   "metadata": {},
   "source": [
    "The zip function is used for combining multiple iterables (lists, tuples, etc.) element-wise."
   ]
  },
  {
   "cell_type": "code",
   "execution_count": 5,
   "id": "7eb4989d-e95e-4440-8e7c-146065a52ea6",
   "metadata": {},
   "outputs": [
    {
     "data": {
      "text/plain": [
       "[('Alice', 25), ('Bob', 30), ('Charlie', 35)]"
      ]
     },
     "execution_count": 5,
     "metadata": {},
     "output_type": "execute_result"
    }
   ],
   "source": [
    "names = ['Alice', 'Bob', 'Charlie']\n",
    "ages = [25, 30, 35]\n",
    "\n",
    "list(zip(names, ages))  # [('Alice', 25), ('Bob', 30), ('Charlie', 35)]"
   ]
  },
  {
   "cell_type": "markdown",
   "id": "e8b3de50-46ca-498c-a6e2-78b0e57a2331",
   "metadata": {},
   "source": [
    "# Unpacking:"
   ]
  },
  {
   "cell_type": "code",
   "execution_count": 10,
   "id": "6c2b544b-a2b2-4ea0-99dc-6a50b9410dc3",
   "metadata": {},
   "outputs": [
    {
     "name": "stdout",
     "output_type": "stream",
     "text": [
      "Alice\n",
      "Bob\n",
      "Charlie\n"
     ]
    }
   ],
   "source": [
    "first, second, third = names  # first='Alice', second='Bob', third='Charlie'\n",
    "\n",
    "print(first)\n",
    "print(second)\n",
    "print(third)"
   ]
  },
  {
   "cell_type": "code",
   "execution_count": 11,
   "id": "cca6ffa6-d114-4c45-93c5-c9667ef49a30",
   "metadata": {},
   "outputs": [
    {
     "name": "stdout",
     "output_type": "stream",
     "text": [
      "Alice\n",
      "['Bob', 'Charlie']\n"
     ]
    }
   ],
   "source": [
    "first, *rest = names  # first='Alice', rest=['Bob', 'Charlie']\n",
    "\n",
    "print(first)\n",
    "print(rest)"
   ]
  },
  {
   "cell_type": "markdown",
   "id": "d9901543-1d0a-4dc4-a18b-e056faada10f",
   "metadata": {},
   "source": [
    "# Sorting:"
   ]
  },
  {
   "cell_type": "code",
   "execution_count": 8,
   "id": "5a277d4c-22a8-413b-894f-d4e1b89f2158",
   "metadata": {},
   "outputs": [
    {
     "data": {
      "text/plain": [
       "[1, 3, 4, 8]"
      ]
     },
     "execution_count": 8,
     "metadata": {},
     "output_type": "execute_result"
    }
   ],
   "source": [
    "numbers = [4, 1, 8, 3]\n",
    "sorted(numbers)  # [1, 3, 4, 8]"
   ]
  },
  {
   "cell_type": "code",
   "execution_count": 9,
   "id": "c11e3db1-2c31-4e1c-9ab4-64f83464b76f",
   "metadata": {},
   "outputs": [],
   "source": [
    "numbers.sort()  # Sorts the list in-place"
   ]
  },
  {
   "cell_type": "code",
   "execution_count": null,
   "id": "a99b73e6-2f25-4b9e-a338-ab1a8159360c",
   "metadata": {},
   "outputs": [],
   "source": []
  }
 ],
 "metadata": {
  "kernelspec": {
   "display_name": "Python 3 (ipykernel)",
   "language": "python",
   "name": "python3"
  },
  "language_info": {
   "codemirror_mode": {
    "name": "ipython",
    "version": 3
   },
   "file_extension": ".py",
   "mimetype": "text/x-python",
   "name": "python",
   "nbconvert_exporter": "python",
   "pygments_lexer": "ipython3",
   "version": "3.11.3"
  }
 },
 "nbformat": 4,
 "nbformat_minor": 5
}

{
 "cells": [
  {
   "cell_type": "markdown",
   "id": "c6c478f0-8797-41a8-83fc-d1d303b96f82",
   "metadata": {},
   "source": [
    "# random() function:\n",
    "This function returns a random float in the range [0.0, 1.0)."
   ]
  },
  {
   "cell_type": "code",
   "execution_count": 3,
   "id": "ca2c3063-2cfa-4434-98c6-59560153cd71",
   "metadata": {},
   "outputs": [
    {
     "name": "stdout",
     "output_type": "stream",
     "text": [
      "0.6394267984578837\n"
     ]
    }
   ],
   "source": [
    "import random\n",
    "print(random.random())\n"
   ]
  },
  {
   "cell_type": "markdown",
   "id": "12d1fcae-5139-4af2-9e28-8ac00fb6b842",
   "metadata": {},
   "source": [
    "# seed(seed=None) function:\r\n",
    "\r\n",
    "This function initializes the random number generator with the given seed. If the seed is not provided, it uses the current system time."
   ]
  },
  {
   "cell_type": "code",
   "execution_count": 12,
   "id": "d69276f2-be07-47b1-9a94-61aac9dfe76d",
   "metadata": {},
   "outputs": [
    {
     "name": "stdout",
     "output_type": "stream",
     "text": [
      "None\n"
     ]
    }
   ],
   "source": [
    "import random\n",
    "print(random.seed(42))  # Set a specific seed\n"
   ]
  },
  {
   "cell_type": "markdown",
   "id": "28c0a6cf-505b-4d16-8f83-633491cadc09",
   "metadata": {},
   "source": [
    "# randint(a, b) function:\r\n",
    "\r\n",
    "This function returns a random integer from the specified range [a, b]."
   ]
  },
  {
   "cell_type": "code",
   "execution_count": 13,
   "id": "6027789a-e684-4966-92a8-15b4472299ab",
   "metadata": {},
   "outputs": [
    {
     "name": "stdout",
     "output_type": "stream",
     "text": [
      "4\n"
     ]
    }
   ],
   "source": [
    "import random\n",
    "print(random.randint(1, 10))\n"
   ]
  },
  {
   "cell_type": "markdown",
   "id": "ac41e0e2-99c7-47df-bc67-3388511b071c",
   "metadata": {},
   "source": [
    "# choice(seq) function:\n",
    "\n",
    "This function returns a randomly chosen element from the given sequence (list, tuple, or string)."
   ]
  },
  {
   "cell_type": "code",
   "execution_count": 17,
   "id": "e0bc9bbd-948a-4d2e-9cf4-758f816b6aa5",
   "metadata": {},
   "outputs": [
    {
     "name": "stdout",
     "output_type": "stream",
     "text": [
      "1\n"
     ]
    }
   ],
   "source": [
    "import random\n",
    "my_list = [1, 2, 3, 4, 5]\n",
    "print(random.choice(my_list))\n"
   ]
  },
  {
   "cell_type": "markdown",
   "id": "4490ab7b-8dd4-4195-8cb5-fc230276a73e",
   "metadata": {},
   "source": [
    "# shuffle(seq) function:\n",
    "\n",
    "This function shuffles the elements of a sequence in place."
   ]
  },
  {
   "cell_type": "code",
   "execution_count": 19,
   "id": "cb786e7e-fd37-48dc-a696-2b09228d91ae",
   "metadata": {},
   "outputs": [
    {
     "name": "stdout",
     "output_type": "stream",
     "text": [
      "[4, 3, 1, 2, 5]\n"
     ]
    }
   ],
   "source": [
    "import random\n",
    "my_list = [1, 2, 3, 4, 5]\n",
    "random.shuffle(my_list)\n",
    "print(my_list)\n"
   ]
  },
  {
   "cell_type": "markdown",
   "id": "de3c0e2a-0565-425e-a5e5-f7f9a808b07c",
   "metadata": {},
   "source": [
    "# sample(population, k) function:\r\n",
    "\r\n",
    "This function returns a random sample of k elements from the given population (sequence)."
   ]
  },
  {
   "cell_type": "code",
   "execution_count": 23,
   "id": "2b1fe1a5-4dc4-454b-b7bc-9534d233f53b",
   "metadata": {},
   "outputs": [
    {
     "name": "stdout",
     "output_type": "stream",
     "text": [
      "[4, 2, 3]\n"
     ]
    }
   ],
   "source": [
    "import random\n",
    "my_list = [1, 2, 3, 4, 5]\n",
    "sample_result = random.sample(my_list, 3)\n",
    "print(sample_result)\n"
   ]
  },
  {
   "cell_type": "markdown",
   "id": "98f44d1d-38db-4c69-a4a4-809223fb9a64",
   "metadata": {},
   "source": [
    "# uniform(a, b) function:\n",
    "\n",
    "This function returns a random float from the specified range [a, b)."
   ]
  },
  {
   "cell_type": "code",
   "execution_count": 24,
   "id": "2cad6c67-2f80-462c-9a61-a2f8d2c3d4df",
   "metadata": {},
   "outputs": [
    {
     "name": "stdout",
     "output_type": "stream",
     "text": [
      "3.79246546975272\n"
     ]
    }
   ],
   "source": [
    "import random\n",
    "print(random.uniform(1.0, 5.0))\n"
   ]
  },
  {
   "cell_type": "code",
   "execution_count": null,
   "id": "5cf263f3-1388-434e-92ce-17aa34476402",
   "metadata": {},
   "outputs": [],
   "source": []
  }
 ],
 "metadata": {
  "kernelspec": {
   "display_name": "Python 3 (ipykernel)",
   "language": "python",
   "name": "python3"
  },
  "language_info": {
   "codemirror_mode": {
    "name": "ipython",
    "version": 3
   },
   "file_extension": ".py",
   "mimetype": "text/x-python",
   "name": "python",
   "nbconvert_exporter": "python",
   "pygments_lexer": "ipython3",
   "version": "3.11.3"
  }
 },
 "nbformat": 4,
 "nbformat_minor": 5
}

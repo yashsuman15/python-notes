{
 "cells": [
  {
   "cell_type": "code",
   "execution_count": 5,
   "id": "958e785b-c1c8-4d70-8f57-95f06c03f6af",
   "metadata": {},
   "outputs": [
    {
     "name": "stdout",
     "output_type": "stream",
     "text": [
      "Hello World\n"
     ]
    }
   ],
   "source": [
    "str1 = \"Hello\"\n",
    "str2 = \"World\"\n",
    "result = str1 + \" \" + str2\n",
    "print(result)"
   ]
  },
  {
   "cell_type": "code",
   "execution_count": 6,
   "id": "679a39ca-66ce-4975-af29-e62d221a1a98",
   "metadata": {},
   "outputs": [
    {
     "name": "stdout",
     "output_type": "stream",
     "text": [
      "My name is Alice and I am 25 years old.\n"
     ]
    }
   ],
   "source": [
    "name = \"Alice\"\n",
    "age = 25\n",
    "formatted_str = f\"My name is {name} and I am {age} years old.\"\n",
    "print(formatted_str)"
   ]
  },
  {
   "cell_type": "markdown",
   "id": "d78fe6a2-79bc-48e9-9250-bb0457f80947",
   "metadata": {},
   "source": [
    "# String Indexing and Slicing:"
   ]
  },
  {
   "cell_type": "code",
   "execution_count": 8,
   "id": "3f276507-a27d-4338-86a2-6205d53325be",
   "metadata": {},
   "outputs": [],
   "source": [
    "my_string = \"Python\"\n",
    "first_char = my_string[0]\n",
    "substring = my_string[1:4]\n"
   ]
  },
  {
   "cell_type": "code",
   "execution_count": 9,
   "id": "7c2ed3ab-7a65-4aed-86b3-192cc023bde2",
   "metadata": {},
   "outputs": [],
   "source": [
    "my_string = \"Python\"\n",
    "sliced_str_start = my_string[:3]  # From the beginning up to, but not including index 3\n",
    "sliced_str_end = my_string[2:]   # From index 2 to the end\n"
   ]
  },
  {
   "cell_type": "code",
   "execution_count": 10,
   "id": "450d2aed-415c-432b-a7ea-abf237512671",
   "metadata": {},
   "outputs": [],
   "source": [
    "my_string = \"Python\"\n",
    "sliced_str_negative = my_string[-3:-1]  # Includes index -3 and -2 (up to, but not including -1)\n"
   ]
  },
  {
   "cell_type": "code",
   "execution_count": null,
   "id": "609fb8b4-6157-439b-b593-ee9c0a9e4fd2",
   "metadata": {},
   "outputs": [],
   "source": [
    "my_string = \"Python\"\n",
    "sliced_str_step = my_string[1:5:2]  # Includes index 1 and 3, skipping by 2\n"
   ]
  },
  {
   "cell_type": "code",
   "execution_count": 11,
   "id": "27471719-16b2-4ce9-8722-9d10b6dfac7c",
   "metadata": {},
   "outputs": [
    {
     "name": "stdout",
     "output_type": "stream",
     "text": [
      "Pto\n"
     ]
    }
   ],
   "source": [
    "my_string = \"Python\"\n",
    "sliced_str_defaults = my_string[::2]  # Start and stop are omitted, step is 2\n",
    "print(sliced_str_defaults)"
   ]
  },
  {
   "cell_type": "code",
   "execution_count": 13,
   "id": "e0eec88e-54aa-4e71-b002-d3874a756314",
   "metadata": {},
   "outputs": [
    {
     "name": "stdout",
     "output_type": "stream",
     "text": [
      "nohtyP\n"
     ]
    }
   ],
   "source": [
    "my_string = \"Python\"\n",
    "sliced_str_negative_step = my_string[::-1]  # Reverses the string\n",
    "print(sliced_str_negative_step)"
   ]
  },
  {
   "cell_type": "markdown",
   "id": "5249594b-9019-4a7f-8258-a0a4fd71615a",
   "metadata": {},
   "source": [
    "# Strings Methods"
   ]
  },
  {
   "cell_type": "code",
   "execution_count": 16,
   "id": "f19c1911-3623-46c2-89e3-5b4bf97dccad",
   "metadata": {},
   "outputs": [],
   "source": [
    "my_string = \"Python\""
   ]
  },
  {
   "cell_type": "code",
   "execution_count": 17,
   "id": "2d7c69c6-25cc-445e-ab7e-f8c1c773bca2",
   "metadata": {},
   "outputs": [
    {
     "data": {
      "text/plain": [
       "6"
      ]
     },
     "execution_count": 17,
     "metadata": {},
     "output_type": "execute_result"
    }
   ],
   "source": [
    "len(my_string)\n"
   ]
  },
  {
   "cell_type": "code",
   "execution_count": 19,
   "id": "9656121f-d1aa-4e57-a54a-4aca5014bfc7",
   "metadata": {},
   "outputs": [
    {
     "data": {
      "text/plain": [
       "'python'"
      ]
     },
     "execution_count": 19,
     "metadata": {},
     "output_type": "execute_result"
    }
   ],
   "source": [
    "my_string.lower()"
   ]
  },
  {
   "cell_type": "code",
   "execution_count": 20,
   "id": "70382d43-dab0-4ee7-bd2c-75d049e044a6",
   "metadata": {},
   "outputs": [
    {
     "data": {
      "text/plain": [
       "'PYTHON'"
      ]
     },
     "execution_count": 20,
     "metadata": {},
     "output_type": "execute_result"
    }
   ],
   "source": [
    "my_string.upper()"
   ]
  },
  {
   "cell_type": "code",
   "execution_count": 22,
   "id": "151447cb-c921-4989-9c23-2d2308e5e1ee",
   "metadata": {},
   "outputs": [
    {
     "data": {
      "text/plain": [
       "'Hello'"
      ]
     },
     "execution_count": 22,
     "metadata": {},
     "output_type": "execute_result"
    }
   ],
   "source": [
    "my_string = \"   Hello   \"\n",
    "\n",
    "my_string.strip()"
   ]
  },
  {
   "cell_type": "code",
   "execution_count": 23,
   "id": "79abdb2d-aca5-4d15-8986-911c81511f27",
   "metadata": {},
   "outputs": [
    {
     "data": {
      "text/plain": [
       "'Hello   '"
      ]
     },
     "execution_count": 23,
     "metadata": {},
     "output_type": "execute_result"
    }
   ],
   "source": [
    "my_string.lstrip()"
   ]
  },
  {
   "cell_type": "code",
   "execution_count": 24,
   "id": "cb0883df-f0ff-45b6-9bf2-6ef0512b0c52",
   "metadata": {},
   "outputs": [
    {
     "data": {
      "text/plain": [
       "'   Hello'"
      ]
     },
     "execution_count": 24,
     "metadata": {},
     "output_type": "execute_result"
    }
   ],
   "source": [
    "my_string.rstrip()"
   ]
  },
  {
   "cell_type": "code",
   "execution_count": 25,
   "id": "0f63ad7b-6b90-432e-9ed3-7bfab3a7ce17",
   "metadata": {},
   "outputs": [
    {
     "data": {
      "text/plain": [
       "'   Hi   '"
      ]
     },
     "execution_count": 25,
     "metadata": {},
     "output_type": "execute_result"
    }
   ],
   "source": [
    "my_string.replace(\"Hello\", \"Hi\")\n"
   ]
  },
  {
   "cell_type": "code",
   "execution_count": 33,
   "id": "06f70bcd-62e0-43ff-a55c-f6b0a5e98912",
   "metadata": {},
   "outputs": [
    {
     "data": {
      "text/plain": [
       "2"
      ]
     },
     "execution_count": 33,
     "metadata": {},
     "output_type": "execute_result"
    }
   ],
   "source": [
    "my_string.count(\"l\")\n"
   ]
  },
  {
   "cell_type": "code",
   "execution_count": 35,
   "id": "06a7621c-14d6-48a7-b610-8e8d0ff90e77",
   "metadata": {},
   "outputs": [
    {
     "data": {
      "text/plain": [
       "5"
      ]
     },
     "execution_count": 35,
     "metadata": {},
     "output_type": "execute_result"
    }
   ],
   "source": [
    "my_string.find(\"l\")"
   ]
  },
  {
   "cell_type": "code",
   "execution_count": 36,
   "id": "e0d8f35a-61aa-4cff-b5a1-ce3935ec428b",
   "metadata": {},
   "outputs": [
    {
     "data": {
      "text/plain": [
       "5"
      ]
     },
     "execution_count": 36,
     "metadata": {},
     "output_type": "execute_result"
    }
   ],
   "source": [
    "my_string.index(\"l\")"
   ]
  },
  {
   "cell_type": "code",
   "execution_count": 37,
   "id": "af1fde0c-0c0a-423f-a33d-2b67c898268f",
   "metadata": {},
   "outputs": [
    {
     "data": {
      "text/plain": [
       "False"
      ]
     },
     "execution_count": 37,
     "metadata": {},
     "output_type": "execute_result"
    }
   ],
   "source": [
    "my_string.startswith(\"He\")"
   ]
  },
  {
   "cell_type": "code",
   "execution_count": 38,
   "id": "067f9d22-29a2-4688-9a4d-03ea5fbd0175",
   "metadata": {},
   "outputs": [
    {
     "data": {
      "text/plain": [
       "False"
      ]
     },
     "execution_count": 38,
     "metadata": {},
     "output_type": "execute_result"
    }
   ],
   "source": [
    "my_string.endswith(\"lo\")"
   ]
  },
  {
   "cell_type": "code",
   "execution_count": 39,
   "id": "3a4da5d3-499c-4aaf-869d-a2c6b53c8a0f",
   "metadata": {},
   "outputs": [
    {
     "data": {
      "text/plain": [
       "['', '', '', 'Hello', '', '', '']"
      ]
     },
     "execution_count": 39,
     "metadata": {},
     "output_type": "execute_result"
    }
   ],
   "source": [
    "my_string.split(\" \")\n"
   ]
  },
  {
   "cell_type": "code",
   "execution_count": 40,
   "id": "7ee2e327-3994-410b-b042-b1926a1fdc77",
   "metadata": {},
   "outputs": [
    {
     "data": {
      "text/plain": [
       "'---Hello---'"
      ]
     },
     "execution_count": 40,
     "metadata": {},
     "output_type": "execute_result"
    }
   ],
   "source": [
    "\"-\".join(words)\n"
   ]
  },
  {
   "cell_type": "code",
   "execution_count": 41,
   "id": "1b9a415b-6c39-46e0-8ee6-70054a009caf",
   "metadata": {},
   "outputs": [
    {
     "data": {
      "text/plain": [
       "'   hello   '"
      ]
     },
     "execution_count": 41,
     "metadata": {},
     "output_type": "execute_result"
    }
   ],
   "source": [
    "my_string.capitalize()"
   ]
  },
  {
   "cell_type": "code",
   "execution_count": 42,
   "id": "31baeccf-c9ad-4f42-9e5a-5f4ec3e10c88",
   "metadata": {},
   "outputs": [
    {
     "data": {
      "text/plain": [
       "'   Hello   '"
      ]
     },
     "execution_count": 42,
     "metadata": {},
     "output_type": "execute_result"
    }
   ],
   "source": [
    "my_string.title()"
   ]
  },
  {
   "cell_type": "code",
   "execution_count": 43,
   "id": "503fee6e-47b9-491f-af2d-eab244f0e52b",
   "metadata": {},
   "outputs": [
    {
     "data": {
      "text/plain": [
       "False"
      ]
     },
     "execution_count": 43,
     "metadata": {},
     "output_type": "execute_result"
    }
   ],
   "source": [
    "my_string.isalpha()"
   ]
  },
  {
   "cell_type": "code",
   "execution_count": 44,
   "id": "ae29e8ef-3e6e-40c7-8cd1-0ace6640043c",
   "metadata": {},
   "outputs": [
    {
     "data": {
      "text/plain": [
       "False"
      ]
     },
     "execution_count": 44,
     "metadata": {},
     "output_type": "execute_result"
    }
   ],
   "source": [
    "my_string.isdigit()"
   ]
  },
  {
   "cell_type": "code",
   "execution_count": 45,
   "id": "76d9606a-36fa-4ed8-9a84-4b227069b4d3",
   "metadata": {},
   "outputs": [
    {
     "data": {
      "text/plain": [
       "False"
      ]
     },
     "execution_count": 45,
     "metadata": {},
     "output_type": "execute_result"
    }
   ],
   "source": [
    "my_string.isspace()"
   ]
  },
  {
   "cell_type": "code",
   "execution_count": null,
   "id": "961978d4-d63a-4eb1-b2f2-e19a47d6f34e",
   "metadata": {},
   "outputs": [],
   "source": []
  }
 ],
 "metadata": {
  "kernelspec": {
   "display_name": "Python 3 (ipykernel)",
   "language": "python",
   "name": "python3"
  },
  "language_info": {
   "codemirror_mode": {
    "name": "ipython",
    "version": 3
   },
   "file_extension": ".py",
   "mimetype": "text/x-python",
   "name": "python",
   "nbconvert_exporter": "python",
   "pygments_lexer": "ipython3",
   "version": "3.11.3"
  }
 },
 "nbformat": 4,
 "nbformat_minor": 5
}

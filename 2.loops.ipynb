{
 "cells": [
  {
   "cell_type": "markdown",
   "id": "8b5e1668-36a2-4192-b1d6-9835a6bdbae4",
   "metadata": {},
   "source": [
    "# \"for\" Loop:"
   ]
  },
  {
   "cell_type": "code",
   "execution_count": 4,
   "id": "1b7cb9b6-d146-4a8f-84ce-7ff303fe7b97",
   "metadata": {},
   "outputs": [
    {
     "name": "stdout",
     "output_type": "stream",
     "text": [
      "0 1 2 3 4 "
     ]
    }
   ],
   "source": [
    "# Basic for loop\n",
    "for i in range(5):\n",
    "    print(i, end=\" \")\n"
   ]
  },
  {
   "cell_type": "code",
   "execution_count": 6,
   "id": "b4002eed-e2df-4147-a7eb-4a22cfc9ea20",
   "metadata": {},
   "outputs": [
    {
     "name": "stdout",
     "output_type": "stream",
     "text": [
      "0 1 2 3 4 Loop finished successfully\n"
     ]
    }
   ],
   "source": [
    "# for loop with else\n",
    "for i in range(5):\n",
    "    print(i, end=\" \")\n",
    "else:\n",
    "    print(\"Loop finished successfully\")\n"
   ]
  },
  {
   "cell_type": "code",
   "execution_count": 7,
   "id": "63cee9fe-2cc7-4615-894a-53fcf1451f72",
   "metadata": {},
   "outputs": [
    {
     "name": "stdout",
     "output_type": "stream",
     "text": [
      "0 0\n",
      "0 1\n",
      "1 0\n",
      "1 1\n",
      "2 0\n",
      "2 1\n"
     ]
    }
   ],
   "source": [
    "# Nested for loops\n",
    "for i in range(3):\n",
    "    for j in range(2):\n",
    "        print(i, j)\n"
   ]
  },
  {
   "cell_type": "markdown",
   "id": "d96ba9b9-6047-4cc8-8d0d-d0d08155c08a",
   "metadata": {},
   "source": [
    "# \"while\" Loop:"
   ]
  },
  {
   "cell_type": "code",
   "execution_count": 9,
   "id": "b0c5bf0f-b6b5-4bb8-a2fc-730f8cd40456",
   "metadata": {},
   "outputs": [
    {
     "name": "stdout",
     "output_type": "stream",
     "text": [
      "0 1 2 3 4 "
     ]
    }
   ],
   "source": [
    "# Basic while loop\n",
    "count = 0\n",
    "while count < 5:\n",
    "    print(count , end=\" \")\n",
    "    count += 1"
   ]
  },
  {
   "cell_type": "code",
   "execution_count": 10,
   "id": "7f01f3b6-3982-45cc-af4f-7039f9bc53c2",
   "metadata": {},
   "outputs": [
    {
     "name": "stdout",
     "output_type": "stream",
     "text": [
      "0 1 2 3 4 Loop finished successfully\n"
     ]
    }
   ],
   "source": [
    "# while loop with else\n",
    "count = 0\n",
    "while count < 5:\n",
    "    print(count, end=\" \")\n",
    "    count += 1\n",
    "else:\n",
    "    print(\"Loop finished successfully\")\n"
   ]
  },
  {
   "cell_type": "markdown",
   "id": "e7019e66-6c44-4eae-9238-2f5dc2094c67",
   "metadata": {},
   "source": [
    "## break"
   ]
  },
  {
   "cell_type": "code",
   "execution_count": 20,
   "id": "8e4ef7ce-988f-41c8-b581-d79310e36627",
   "metadata": {},
   "outputs": [
    {
     "name": "stdout",
     "output_type": "stream",
     "text": [
      "0 1 2 3 4 "
     ]
    },
    {
     "data": {
      "text/plain": [
       "'break is used to exit a loop prematurely'"
      ]
     },
     "execution_count": 20,
     "metadata": {},
     "output_type": "execute_result"
    }
   ],
   "source": [
    "# break\n",
    "\n",
    "count = 0\n",
    "while True:\n",
    "    print(count, end=\" \")\n",
    "    count += 1\n",
    "    if count >= 5:\n",
    "        break\n",
    "\n",
    "\"\"\"break is used to exit a loop prematurely\"\"\""
   ]
  },
  {
   "cell_type": "markdown",
   "id": "45e457aa-1823-4a9d-b1c1-b32f7e06bf78",
   "metadata": {},
   "source": [
    "## continue"
   ]
  },
  {
   "cell_type": "code",
   "execution_count": 22,
   "id": "52fcdbab-f426-4f93-a15b-2b2de343663c",
   "metadata": {},
   "outputs": [
    {
     "name": "stdout",
     "output_type": "stream",
     "text": [
      "0 1 3 4 "
     ]
    },
    {
     "data": {
      "text/plain": [
       "'continue skips the rest of the code inside a loop for the current iteration.'"
      ]
     },
     "execution_count": 22,
     "metadata": {},
     "output_type": "execute_result"
    }
   ],
   "source": [
    "for i in range(5):\n",
    "    if i == 2:\n",
    "        continue\n",
    "    print(i, end=\" \")\n",
    "\n",
    "\"\"\"continue skips the rest of the code inside a loop for the current iteration.\"\"\""
   ]
  },
  {
   "cell_type": "markdown",
   "id": "bee2dc4d-6f79-40b9-a912-2ea0037ba4db",
   "metadata": {},
   "source": [
    "# Advanced Loop Techniques: "
   ]
  },
  {
   "cell_type": "markdown",
   "id": "b0cd2974-e651-4f42-a016-47c1b9adb31d",
   "metadata": {},
   "source": [
    "## Looping through collections:"
   ]
  },
  {
   "cell_type": "code",
   "execution_count": 23,
   "id": "204bf0ea-e162-4f5c-ace3-1565f4713505",
   "metadata": {},
   "outputs": [
    {
     "name": "stdout",
     "output_type": "stream",
     "text": [
      "apple\n",
      "banana\n",
      "cherry\n"
     ]
    }
   ],
   "source": [
    "# Looping through a list\n",
    "fruits = [\"apple\", \"banana\", \"cherry\"]\n",
    "for fruit in fruits:\n",
    "    print(fruit)"
   ]
  },
  {
   "cell_type": "markdown",
   "id": "dbaf6995-bb63-4bcf-8d13-79160f1d926e",
   "metadata": {},
   "source": [
    "## Looping with enumerate:"
   ]
  },
  {
   "cell_type": "markdown",
   "id": "5d2e406c-abd2-4db5-8d0b-e4848a9b716e",
   "metadata": {},
   "source": [
    "The enumerate function allows you to iterate over both the indices and the values of a collection."
   ]
  },
  {
   "cell_type": "code",
   "execution_count": 24,
   "id": "f3d5c987-d972-4d3d-9b09-cd1b3e7efd02",
   "metadata": {},
   "outputs": [
    {
     "name": "stdout",
     "output_type": "stream",
     "text": [
      "0 apple\n",
      "1 banana\n",
      "2 cherry\n"
     ]
    }
   ],
   "source": [
    "# Looping with enumerate\n",
    "fruits = [\"apple\", \"banana\", \"cherry\"]\n",
    "for index, fruit in enumerate(fruits):\n",
    "    print(index, fruit)\n"
   ]
  },
  {
   "cell_type": "markdown",
   "id": "c1e76309-6e5f-4b94-ac61-af887b6b4710",
   "metadata": {},
   "source": [
    "## Looping with zip:"
   ]
  },
  {
   "cell_type": "markdown",
   "id": "d03338e6-6fdd-4132-8adb-3c7d46637b36",
   "metadata": {},
   "source": [
    "The zip function combines elements from multiple iterables into tuples, which can be unpacked in a for loop."
   ]
  },
  {
   "cell_type": "code",
   "execution_count": 25,
   "id": "c69de83a-4b84-42cc-80a5-60339f5ad056",
   "metadata": {},
   "outputs": [
    {
     "name": "stdout",
     "output_type": "stream",
     "text": [
      "apple red\n",
      "banana yellow\n",
      "cherry red\n"
     ]
    }
   ],
   "source": [
    "# Looping with zip\n",
    "fruits = [\"apple\", \"banana\", \"cherry\"]\n",
    "colors = [\"red\", \"yellow\", \"red\"]\n",
    "for fruit, color in zip(fruits, colors):\n",
    "    print(fruit, color)\n"
   ]
  },
  {
   "cell_type": "code",
   "execution_count": null,
   "id": "f76a84a9-7400-4d89-9674-385d3adf7de1",
   "metadata": {},
   "outputs": [],
   "source": []
  }
 ],
 "metadata": {
  "kernelspec": {
   "display_name": "Python 3 (ipykernel)",
   "language": "python",
   "name": "python3"
  },
  "language_info": {
   "codemirror_mode": {
    "name": "ipython",
    "version": 3
   },
   "file_extension": ".py",
   "mimetype": "text/x-python",
   "name": "python",
   "nbconvert_exporter": "python",
   "pygments_lexer": "ipython3",
   "version": "3.11.3"
  }
 },
 "nbformat": 4,
 "nbformat_minor": 5
}

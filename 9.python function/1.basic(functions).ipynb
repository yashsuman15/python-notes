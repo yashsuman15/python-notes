{
 "cells": [
  {
   "cell_type": "markdown",
   "id": "5c846222-94c5-4e85-a515-cb9d0d4c4157",
   "metadata": {},
   "source": [
    "# 1. Introduction to Functions\""
   ]
  },
  {
   "cell_type": "markdown",
   "id": "4c05a3a0-639c-48fc-ab2f-b26c259b2068",
   "metadata": {},
   "source": [
    "Functions in Python are blocks of organized, reusable code that perform a specific task. \n",
    "They help in modularizing code, improving readability, and promoting code reusability."
   ]
  },
  {
   "cell_type": "code",
   "execution_count": 12,
   "id": "171c81bf-47e0-47f4-9099-0e35a550aceb",
   "metadata": {},
   "outputs": [
    {
     "name": "stdout",
     "output_type": "stream",
     "text": [
      "Hello, welcome to Python functions!\n"
     ]
    }
   ],
   "source": [
    "def greet():\n",
    "    print(\"Hello, welcome to Python functions!\")\n",
    "\n",
    "# Call the function\n",
    "greet()"
   ]
  },
  {
   "cell_type": "markdown",
   "id": "2c071761-4c63-4dc7-929f-bee797b20b05",
   "metadata": {},
   "source": [
    "# 2. Function Parameters and Arguments"
   ]
  },
  {
   "cell_type": "markdown",
   "id": "3928b4d9-86ea-44e4-9933-0e280be3f8be",
   "metadata": {},
   "source": [
    "## Positional Arguments:\r\n",
    "These are the most common type of arguments. The values are passed to the function in the order they are defined.hon"
   ]
  },
  {
   "cell_type": "code",
   "execution_count": 2,
   "id": "b670f72a-c80d-47b3-92b0-a8b8a49ed424",
   "metadata": {},
   "outputs": [
    {
     "name": "stdout",
     "output_type": "stream",
     "text": [
      "8\n"
     ]
    }
   ],
   "source": [
    "def add_numbers(a, b):\n",
    "    result = a + b\n",
    "    return result\n",
    "\n",
    "sum_result = add_numbers(5, 3)\n",
    "print(sum_result)  # Output: 8"
   ]
  },
  {
   "cell_type": "markdown",
   "id": "81e56890-91cb-436d-bcfc-cf3d4adf4ae1",
   "metadata": {},
   "source": [
    "## Default Values:\r\n",
    "Default values are assigned to parameters, providing a default behavior if the caller doesn't pass a value for that parameter."
   ]
  },
  {
   "cell_type": "code",
   "execution_count": 3,
   "id": "581b55a7-0a94-418b-9420-d18443f4de29",
   "metadata": {},
   "outputs": [
    {
     "name": "stdout",
     "output_type": "stream",
     "text": [
      "Hello, Guest!\n",
      "Hello, Alice!\n"
     ]
    }
   ],
   "source": [
    "def greet(name=\"Guest\"):\n",
    "    print(f\"Hello, {name}!\")\n",
    "\n",
    "greet()         # Output: Hello, Guest!\n",
    "greet(\"Alice\")  # Output: Hello, Alice!"
   ]
  },
  {
   "cell_type": "markdown",
   "id": "7aa5f817-b1cd-46f4-b156-038c087cbce2",
   "metadata": {},
   "source": [
    "## Keyword Arguments:\r\n",
    "Arguments can also be passed by explicitly specifying the parameter name."
   ]
  },
  {
   "cell_type": "code",
   "execution_count": 4,
   "id": "a00f630d-1ee9-447a-bf5c-9c26a850a540",
   "metadata": {},
   "outputs": [
    {
     "name": "stdout",
     "output_type": "stream",
     "text": [
      "Name: Bob, Age: 25\n"
     ]
    }
   ],
   "source": [
    "def person_info(name, age):\n",
    "    print(f\"Name: {name}, Age: {age}\")\n",
    "\n",
    "person_info(age=25, name=\"Bob\")\n",
    "# Output: Name: Bob, Age: 25"
   ]
  },
  {
   "cell_type": "markdown",
   "id": "d92309a1-2e60-4f70-9604-3a2b4fea2648",
   "metadata": {},
   "source": [
    "## Variable-length Arguments (*args and **kwargs):\r\n",
    "*args allows a function to accept any number of positional arguments. **kwargs allows a function to accept any number of keyword arguments."
   ]
  },
  {
   "cell_type": "code",
   "execution_count": 5,
   "id": "032c0e67-fefd-4428-9cc5-4caba0344d3a",
   "metadata": {},
   "outputs": [
    {
     "name": "stdout",
     "output_type": "stream",
     "text": [
      "Positional Arguments: (1, 2, 3)\n",
      "Keyword Arguments: {'name': 'Alice', 'age': 30}\n"
     ]
    }
   ],
   "source": [
    "def print_args(*args, **kwargs):\n",
    "    print(\"Positional Arguments:\", args)\n",
    "    print(\"Keyword Arguments:\", kwargs)\n",
    "\n",
    "print_args(1, 2, 3, name=\"Alice\", age=30)\n",
    "# Output:\n",
    "# Positional Arguments: (1, 2, 3)\n",
    "# Keyword Arguments: {'name': 'Alice', 'age': 30}\n"
   ]
  },
  {
   "cell_type": "markdown",
   "id": "a5247bc9-bd10-4550-a513-f5054b857066",
   "metadata": {},
   "source": [
    "## *args - Variable-Length Positional Arguments\r\n",
    "In Python, *args is used to allow a function to accept any number of positional arguments. The term \"args\" is just a convention; you could name it anything you like, but the * is what allows the function to accept a variable number of arguments."
   ]
  },
  {
   "cell_type": "code",
   "execution_count": 8,
   "id": "7620aa2c-9345-4d80-8eca-0acb5a6de99c",
   "metadata": {},
   "outputs": [
    {
     "name": "stdout",
     "output_type": "stream",
     "text": [
      "(1, 2, 'hello', [3, 4])\n"
     ]
    }
   ],
   "source": [
    "def print_args(*args):\n",
    "    # for arg in args:\n",
    "        print(args)\n",
    "\n",
    "print_args(1, 2, \"hello\", [3, 4])\n",
    "# Output:\n",
    "# 1\n",
    "# 2\n",
    "# hello\n",
    "# [3, 4]\n"
   ]
  },
  {
   "cell_type": "markdown",
   "id": "377b9f89-f904-469f-a6c3-a6e9ab713fc2",
   "metadata": {},
   "source": [
    "## **kwargs - Variable-Length Keyword Arguments\r\n",
    "Similarly, **kwargs is used to allow a function to accept any number of keyword arguments. The term \"kwargs\" (short for keyword arguments) is a convention, and the double asterisk ** is what enables the function to accept a variable number of keyword arguments."
   ]
  },
  {
   "cell_type": "code",
   "execution_count": 9,
   "id": "c4b3569c-cc51-4133-b0ea-598bc302e7cb",
   "metadata": {},
   "outputs": [
    {
     "name": "stdout",
     "output_type": "stream",
     "text": [
      "name: Alice\n",
      "age: 30\n",
      "city: Wonderland\n"
     ]
    }
   ],
   "source": [
    "def print_kwargs(**kwargs):\n",
    "    for key, value in kwargs.items():\n",
    "        print(f\"{key}: {value}\")\n",
    "\n",
    "print_kwargs(name=\"Alice\", age=30, city=\"Wonderland\")\n",
    "# Output:\n",
    "# name: Alice\n",
    "# age: 30\n",
    "# city: Wonderland\n"
   ]
  },
  {
   "cell_type": "markdown",
   "id": "bab5cc75-5dc9-4755-89ff-cf8a3ebb12b3",
   "metadata": {},
   "source": [
    "## Combining *args and **kwargs\r\n",
    "You can use both *args and **kwargs in the same function definition, allowing it to accept any combination of positional and keyword arguments."
   ]
  },
  {
   "cell_type": "code",
   "execution_count": 10,
   "id": "b7f6bc7e-e895-452f-91e2-e3dfd3ff5083",
   "metadata": {},
   "outputs": [
    {
     "name": "stdout",
     "output_type": "stream",
     "text": [
      "Positional Arguments: (1, 2)\n",
      "Keyword Arguments: {'name': 'Alice', 'age': 30}\n"
     ]
    }
   ],
   "source": [
    "def print_args_and_kwargs(*args, **kwargs):\n",
    "    print(\"Positional Arguments:\", args)\n",
    "    print(\"Keyword Arguments:\", kwargs)\n",
    "\n",
    "print_args_and_kwargs(1, 2, name=\"Alice\", age=30)\n",
    "# Output:\n",
    "# Positional Arguments: (1, 2)\n",
    "# Keyword Arguments: {'name': 'Alice', 'age': 30}"
   ]
  },
  {
   "cell_type": "markdown",
   "id": "5031e033-7c35-4e83-90d5-cece6cad4888",
   "metadata": {},
   "source": [
    "# 3. Return Statement"
   ]
  },
  {
   "cell_type": "markdown",
   "id": "a88dc302-a4d6-4647-b462-649a32b2c3f4",
   "metadata": {},
   "source": [
    "The return statement is used to exit a function and return a value to the caller."
   ]
  },
  {
   "cell_type": "code",
   "execution_count": 11,
   "id": "5749885b-0e0a-400c-ad76-fc7389e94a07",
   "metadata": {},
   "outputs": [
    {
     "name": "stdout",
     "output_type": "stream",
     "text": [
      "8\n"
     ]
    }
   ],
   "source": [
    "def add_numbers(a, b):\n",
    "    result = a + b\n",
    "    return result\n",
    "\n",
    "sum_result = add_numbers(5, 3)\n",
    "print(sum_result)  # Output: 8"
   ]
  },
  {
   "cell_type": "markdown",
   "id": "7a2f8783-83c2-46b5-b60f-6f66344dea07",
   "metadata": {},
   "source": [
    "# 4. Scope and Lifetime of Variables"
   ]
  },
  {
   "cell_type": "markdown",
   "id": "d24f09bd-649e-4837-8761-9adaf25decad",
   "metadata": {},
   "source": [
    "Variables in Python have a scope, which defines where they can be accessed, and a lifetime, which defines how long they exist."
   ]
  },
  {
   "cell_type": "code",
   "execution_count": 13,
   "id": "9aff9fce-3273-4b45-9cbd-7d3d45a1496e",
   "metadata": {},
   "outputs": [
    {
     "name": "stdout",
     "output_type": "stream",
     "text": [
      "15\n"
     ]
    }
   ],
   "source": [
    "global_var = 10\n",
    "\n",
    "def example_function():\n",
    "    local_var = 5\n",
    "    print(global_var + local_var)\n",
    "\n",
    "example_function()  # Output: 15"
   ]
  },
  {
   "cell_type": "code",
   "execution_count": null,
   "id": "bc3dec59-af84-4c1c-a0e8-dc257245bbea",
   "metadata": {},
   "outputs": [],
   "source": []
  }
 ],
 "metadata": {
  "kernelspec": {
   "display_name": "Python 3 (ipykernel)",
   "language": "python",
   "name": "python3"
  },
  "language_info": {
   "codemirror_mode": {
    "name": "ipython",
    "version": 3
   },
   "file_extension": ".py",
   "mimetype": "text/x-python",
   "name": "python",
   "nbconvert_exporter": "python",
   "pygments_lexer": "ipython3",
   "version": "3.11.3"
  }
 },
 "nbformat": 4,
 "nbformat_minor": 5
}

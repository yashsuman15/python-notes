{
 "cells": [
  {
   "cell_type": "markdown",
   "id": "c36a1050-f4ce-42a0-8c61-2dfacf5e5542",
   "metadata": {},
   "source": [
    "# 6. Recursive Functions"
   ]
  },
  {
   "cell_type": "markdown",
   "id": "dd339d52-ca19-49fa-aa9b-3171a2211599",
   "metadata": {},
   "source": [
    "A recursive function is a function that calls itself. It is essential to have a base case to prevent infinite recursion."
   ]
  },
  {
   "cell_type": "code",
   "execution_count": 3,
   "id": "838f516b-875b-4db1-a11d-2507e9fa4b02",
   "metadata": {},
   "outputs": [
    {
     "name": "stdout",
     "output_type": "stream",
     "text": [
      "120\n"
     ]
    }
   ],
   "source": [
    "def factorial(n):\n",
    "    if n == 0 or n == 1:\n",
    "        return 1\n",
    "    else:\n",
    "        return n * factorial(n-1)\n",
    "\n",
    "result = factorial(5)\n",
    "print(result)  # Output: 120"
   ]
  },
  {
   "cell_type": "markdown",
   "id": "6b5c93ff-5b1f-446b-b364-00db9b595e70",
   "metadata": {},
   "source": [
    "# 7. Function Annotations"
   ]
  },
  {
   "cell_type": "markdown",
   "id": "4c5c30d3-33c9-4636-aa6e-2ed056e8cff9",
   "metadata": {},
   "source": [
    "Function annotations provide metadata about the types of function arguments and return values. While not enforced, they can be used by external tools for type checking."
   ]
  },
  {
   "cell_type": "code",
   "execution_count": 4,
   "id": "eea28202-c7a6-44a9-ba5a-05dd84f8dc25",
   "metadata": {},
   "outputs": [
    {
     "name": "stdout",
     "output_type": "stream",
     "text": [
      "11\n",
      "11.2\n"
     ]
    }
   ],
   "source": [
    "def add_numbers(a: int, b: int) -> int:\n",
    "    return a + b\n",
    "\n",
    "value1 = add_numbers(5,6)\n",
    "value2 = add_numbers(5.1,6.1)\n",
    "\n",
    "print(value1)\n",
    "print(value2)"
   ]
  },
  {
   "cell_type": "code",
   "execution_count": null,
   "id": "58c6e97d-57b2-4dcb-bb05-433d7e9627af",
   "metadata": {},
   "outputs": [],
   "source": []
  }
 ],
 "metadata": {
  "kernelspec": {
   "display_name": "Python 3 (ipykernel)",
   "language": "python",
   "name": "python3"
  },
  "language_info": {
   "codemirror_mode": {
    "name": "ipython",
    "version": 3
   },
   "file_extension": ".py",
   "mimetype": "text/x-python",
   "name": "python",
   "nbconvert_exporter": "python",
   "pygments_lexer": "ipython3",
   "version": "3.11.3"
  }
 },
 "nbformat": 4,
 "nbformat_minor": 5
}

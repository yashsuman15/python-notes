{
 "cells": [
  {
   "cell_type": "markdown",
   "id": "aa886236-406c-4a81-8c59-3c619041cd16",
   "metadata": {},
   "source": [
    "# 5. Anonymous Functions (Lambda Functions)"
   ]
  },
  {
   "cell_type": "markdown",
   "id": "ed3b4a76-4bbd-462e-97fe-553a7d3216c3",
   "metadata": {},
   "source": [
    "Lambda functions, also known as anonymous functions, provide a concise way to create small, unnamed functions in Python. They are defined using the lambda keyword, and they are particularly useful when you need a simple function for a short period and don't want to formally define it using the def keyword."
   ]
  },
  {
   "cell_type": "raw",
   "id": "4c0fc606-3ed3-4c0c-b1a5-ff25baa8f649",
   "metadata": {},
   "source": [
    "lambda arguments: expression\n",
    "\n",
    "lambda: Keyword indicating the creation of a lambda function.\r",
    "arguments: A comma-separated list of input parameters. \n",
    "expression: The single expression that the lambda function evaluates and returns."
   ]
  },
  {
   "cell_type": "code",
   "execution_count": 23,
   "id": "47607a4f-2abd-463b-9fde-6218eb90d859",
   "metadata": {},
   "outputs": [
    {
     "name": "stdout",
     "output_type": "stream",
     "text": [
      "7\n",
      "7\n"
     ]
    }
   ],
   "source": [
    "# Regular function\n",
    "def add(x, y):\n",
    "    return x + y\n",
    "\n",
    "# Equivalent lambda function\n",
    "add_lambda = lambda x, y: x + y\n",
    "\n",
    "print(add(3, 4))          # Output: 7\n",
    "print(add_lambda(3, 4))   # Output: 7"
   ]
  },
  {
   "cell_type": "markdown",
   "id": "55f6227c-bfc6-4722-a174-f23b84290b4f",
   "metadata": {},
   "source": [
    "## Use Cases:"
   ]
  },
  {
   "cell_type": "markdown",
   "id": "4fdb6921-bc0d-4f6c-a491-983f16005fab",
   "metadata": {},
   "source": [
    "### Short-lived Functions:\n",
    "Lambda functions are suitable for short-lived, simple operations, especially when defining a full function using def would be overly verbose."
   ]
  },
  {
   "cell_type": "code",
   "execution_count": 24,
   "id": "c9a2a197-0ed9-4a90-ba9a-c34ff1ef2be8",
   "metadata": {},
   "outputs": [
    {
     "name": "stdout",
     "output_type": "stream",
     "text": [
      "12\n"
     ]
    }
   ],
   "source": [
    "# Using lambda for a short-lived operation\n",
    "result = (lambda x, y: x * y)(3, 4)\n",
    "print(result)  # Output: 12"
   ]
  },
  {
   "cell_type": "markdown",
   "id": "aa0cb9ca-1783-451e-9b32-d5a3c50e2af2",
   "metadata": {},
   "source": [
    "### Functional Programming:\r\n",
    "Lambda functions are often used in functional programming constructs like map(), filter(), and reduce()"
   ]
  },
  {
   "cell_type": "code",
   "execution_count": 25,
   "id": "82c5ce98-30a3-4238-8846-d216e7cf715a",
   "metadata": {},
   "outputs": [],
   "source": [
    "numbers = [1, 2, 3, 4, 5]"
   ]
  },
  {
   "cell_type": "code",
   "execution_count": 26,
   "id": "22fda814-bb3d-4779-969d-b379c0711708",
   "metadata": {},
   "outputs": [
    {
     "name": "stdout",
     "output_type": "stream",
     "text": [
      "[1, 4, 9, 16, 25]\n"
     ]
    }
   ],
   "source": [
    "# Using lambda with map\n",
    "squared_numbers = list(map(lambda x: x**2, numbers))\n",
    "print(squared_numbers)  # Output: [1, 4, 9, 16, 25]"
   ]
  },
  {
   "cell_type": "code",
   "execution_count": 27,
   "id": "f1213948-456f-4a7c-affb-1ecf6470a6b5",
   "metadata": {},
   "outputs": [
    {
     "name": "stdout",
     "output_type": "stream",
     "text": [
      "[2, 4]\n"
     ]
    }
   ],
   "source": [
    "# Using lambda with filter\n",
    "even_numbers = list(filter(lambda x: x % 2 == 0, numbers))\n",
    "print(even_numbers)  # Output: [2, 4]"
   ]
  },
  {
   "cell_type": "code",
   "execution_count": 28,
   "id": "3da9c6eb-d879-415f-9970-7ffb4d3849da",
   "metadata": {},
   "outputs": [
    {
     "name": "stdout",
     "output_type": "stream",
     "text": [
      "120\n"
     ]
    }
   ],
   "source": [
    "# Using lambda with reduce (requires importing from functools)\n",
    "from functools import reduce\n",
    "product = reduce(lambda x, y: x * y, numbers)\n",
    "print(product)  # Output: 120"
   ]
  },
  {
   "cell_type": "markdown",
   "id": "7a634681-224e-4c0c-8e95-bb52ae32dfba",
   "metadata": {},
   "source": [
    "## a)  \"map()\""
   ]
  },
  {
   "cell_type": "markdown",
   "id": "d9c1f314-4914-4e07-b8d6-d9cb9a56b2e4",
   "metadata": {},
   "source": [
    "The map() function in Python is a built-in function that applies a specified function to all the items in an input iterable (e.g., a list, tuple, or string) and returns an iterator that produces the results. The basic syntax of map() is as follows:"
   ]
  },
  {
   "cell_type": "raw",
   "id": "3dbc95ae-8036-4961-be3b-62cc24ed6937",
   "metadata": {},
   "source": [
    "map(function, iterable, ...)\n",
    "\n",
    "function: The function to apply to each element of the iterable.\n",
    "iterable: The iterable (list, tuple, string, etc.) whose elements will be processed by the function."
   ]
  },
  {
   "cell_type": "code",
   "execution_count": 29,
   "id": "b56ef838-9b4b-4c6c-a63d-07d91e4ae3c2",
   "metadata": {},
   "outputs": [
    {
     "name": "stdout",
     "output_type": "stream",
     "text": [
      "[1, 4, 9, 16, 25]\n"
     ]
    },
    {
     "data": {
      "text/plain": [
       "'In this example, the map() function applies the lambda function lambda x: x**2 to each element in the numbers list, producing a new iterator. \\nThe list() function is used to convert the iterator to a list for easy printing.'"
      ]
     },
     "execution_count": 29,
     "metadata": {},
     "output_type": "execute_result"
    }
   ],
   "source": [
    "# Basic Example:\n",
    "\n",
    "# Example 1: Squaring each element in a list\n",
    "numbers = [1, 2, 3, 4, 5]\n",
    "squared_numbers = map(lambda x: x**2, numbers)\n",
    "\n",
    "print(list(squared_numbers))\n",
    "# Output: [1, 4, 9, 16, 25]\n",
    "\n",
    "\"\"\"In this example, the map() function applies the lambda function lambda x: x**2 to each element in the numbers list, producing a new iterator. \n",
    "The list() function is used to convert the iterator to a list for easy printing.\"\"\"\n"
   ]
  },
  {
   "cell_type": "code",
   "execution_count": 30,
   "id": "890a61e7-0cd2-49c9-88a1-f2d31991e426",
   "metadata": {},
   "outputs": [
    {
     "name": "stdout",
     "output_type": "stream",
     "text": [
      "[5, 7, 9]\n"
     ]
    },
    {
     "data": {
      "text/plain": [
       "'In this example, the lambda function takes two parameters, and map() applies it to corresponding elements of list1 and list2.'"
      ]
     },
     "execution_count": 30,
     "metadata": {},
     "output_type": "execute_result"
    }
   ],
   "source": [
    "# Using map() with Multiple Iterables:\n",
    "\n",
    "# Example 2: Adding corresponding elements of two lists\n",
    "list1 = [1, 2, 3]\n",
    "list2 = [4, 5, 6]\n",
    "sum_of_elements = map(lambda x, y: x + y, list1, list2)\n",
    "\n",
    "print(list(sum_of_elements))\n",
    "# Output: [5, 7, 9]\n",
    "\n",
    "\"\"\"In this example, the lambda function takes two parameters, and map() applies it to corresponding elements of list1 and list2.\"\"\""
   ]
  },
  {
   "cell_type": "code",
   "execution_count": 31,
   "id": "eaafc6b7-9799-4c19-b562-b563acdcc16c",
   "metadata": {},
   "outputs": [
    {
     "name": "stdout",
     "output_type": "stream",
     "text": [
      "[1, 2, 3, 4, 5]\n"
     ]
    },
    {
     "data": {
      "text/plain": [
       "'Here, the int function is used with map() to convert each character in the string digits to an integer.'"
      ]
     },
     "execution_count": 31,
     "metadata": {},
     "output_type": "execute_result"
    }
   ],
   "source": [
    "# Using map() with Strings:\n",
    "\n",
    "# Example 3: Converting string digits to integers\n",
    "digits = \"12345\"\n",
    "int_digits = map(int, digits)\n",
    "\n",
    "print(list(int_digits))\n",
    "# Output: [1, 2, 3, 4, 5]\n",
    "\n",
    "\"\"\"Here, the int function is used with map() to convert each character in the string digits to an integer.\"\"\""
   ]
  },
  {
   "cell_type": "markdown",
   "id": "262a9dc8-0565-4b62-9469-caf841464e52",
   "metadata": {},
   "source": [
    "## b)  \"filter()\""
   ]
  },
  {
   "cell_type": "markdown",
   "id": "4ded0693-6c07-41a7-ae3f-8c6ec847e921",
   "metadata": {},
   "source": [
    "The filter() function in Python is a built-in function that is used to filter elements from an iterable (such as a list, tuple, or string) based on a specified function or condition. It returns an iterator containing the elements for which the given function returns True. The basic syntax of filter() is as follows:"
   ]
  },
  {
   "cell_type": "raw",
   "id": "9c1349c0-7e90-4d7e-a9d8-486ac031e8bd",
   "metadata": {},
   "source": [
    "filter(function, iterable)\n",
    "\n",
    "function: A function that tests each element of the iterable. If the function returns True, the element is included in the result; otherwise, it is excluded.\r\n",
    "iterable: The iterable (e.g., a list, tuple, string) whose elements are filtered.\r"
   ]
  },
  {
   "cell_type": "code",
   "execution_count": 35,
   "id": "1cba217d-3d7b-4945-84a9-2c71737a35f1",
   "metadata": {},
   "outputs": [
    {
     "name": "stdout",
     "output_type": "stream",
     "text": [
      "[2, 4, 6, 8, 10]\n"
     ]
    }
   ],
   "source": [
    "# Basic Example:\n",
    "\n",
    "# Example 1: Filtering even numbers from a list\n",
    "numbers = [1, 2, 3, 4, 5, 6, 7, 8, 9, 10]\n",
    "\n",
    "filtered_numbers = filter(lambda x: x % 2 == 0, numbers)\n",
    "\n",
    "print(list(filtered_numbers))\n",
    "# Output: [2, 4, 6, 8, 10]"
   ]
  },
  {
   "cell_type": "code",
   "execution_count": 36,
   "id": "e00f25d8-7e48-463d-ac97-991a476520de",
   "metadata": {},
   "outputs": [
    {
     "name": "stdout",
     "output_type": "stream",
     "text": [
      "[1, 'hello', True]\n"
     ]
    }
   ],
   "source": [
    "# Example 2: Filtering truthy values from a list\n",
    "values = [0, 1, '', 'hello', None, True, False]\n",
    "\n",
    "filtered_values = filter(None, values)\n",
    "\n",
    "print(list(filtered_values))\n",
    "# Output: [1, 'hello', True]"
   ]
  },
  {
   "cell_type": "code",
   "execution_count": 37,
   "id": "6ce87b31-56d9-489c-b92d-29d92fbcb1c4",
   "metadata": {},
   "outputs": [
    {
     "name": "stdout",
     "output_type": "stream",
     "text": [
      "[2, 4, 6, 8, 10]\n"
     ]
    }
   ],
   "source": [
    "# Using list comprehension for filtering even numbers\n",
    "filtered_numbers = [x for x in numbers if x % 2 == 0]\n",
    "print(filtered_numbers)\n",
    "# Output: [2, 4, 6, 8, 10]\n"
   ]
  },
  {
   "cell_type": "code",
   "execution_count": null,
   "id": "1d0147a6-25bf-4221-b63c-847e4b47a541",
   "metadata": {},
   "outputs": [],
   "source": []
  }
 ],
 "metadata": {
  "kernelspec": {
   "display_name": "Python 3 (ipykernel)",
   "language": "python",
   "name": "python3"
  },
  "language_info": {
   "codemirror_mode": {
    "name": "ipython",
    "version": 3
   },
   "file_extension": ".py",
   "mimetype": "text/x-python",
   "name": "python",
   "nbconvert_exporter": "python",
   "pygments_lexer": "ipython3",
   "version": "3.11.3"
  }
 },
 "nbformat": 4,
 "nbformat_minor": 5
}

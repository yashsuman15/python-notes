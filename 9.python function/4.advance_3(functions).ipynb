{
 "cells": [
  {
   "cell_type": "markdown",
   "id": "15be0793-6f0b-4602-abeb-81edc3c89192",
   "metadata": {},
   "source": [
    "# First-Class Functions:"
   ]
  },
  {
   "cell_type": "markdown",
   "id": "d62b734a-6a77-45f3-9ed7-979401f3b20c",
   "metadata": {},
   "source": [
    "## Assigned to Variables:"
   ]
  },
  {
   "cell_type": "markdown",
   "id": "41a1a859-630b-4313-b554-76a8602b76d7",
   "metadata": {},
   "source": [
    "You can assign a function to a variable, making the function accessible through that variable."
   ]
  },
  {
   "cell_type": "code",
   "execution_count": 1,
   "id": "64286210-7af5-4835-ad76-52df84a1616b",
   "metadata": {},
   "outputs": [
    {
     "name": "stdout",
     "output_type": "stream",
     "text": [
      "Hello, Alice!\n"
     ]
    }
   ],
   "source": [
    "def greet(name):\n",
    "    return f\"Hello, {name}!\"\n",
    "\n",
    "greeting_function = greet\n",
    "print(greeting_function(\"Alice\"))\n",
    "# Output: Hello, Alice!"
   ]
  },
  {
   "cell_type": "markdown",
   "id": "adc4022b-a645-41cd-96c2-61ad8369f6e4",
   "metadata": {},
   "source": [
    "## Passed as Arguments:"
   ]
  },
  {
   "cell_type": "markdown",
   "id": "3b2c3a65-3356-42fc-b0b0-0af048806df9",
   "metadata": {},
   "source": [
    "Functions can be passed as arguments to other functions."
   ]
  },
  {
   "cell_type": "code",
   "execution_count": 2,
   "id": "a797fa3c-0fd9-4cad-af04-dd113d03b7f9",
   "metadata": {},
   "outputs": [
    {
     "name": "stdout",
     "output_type": "stream",
     "text": [
      "7\n"
     ]
    }
   ],
   "source": [
    "def apply_operation(operation, x, y):\n",
    "    return operation(x, y)\n",
    "\n",
    "def add(x, y):\n",
    "    return x + y\n",
    "\n",
    "result = apply_operation(add, 3, 4)\n",
    "print(result)\n",
    "# Output: 7"
   ]
  },
  {
   "cell_type": "markdown",
   "id": "370b50bb-7af2-461a-9c71-f4e47913ba79",
   "metadata": {},
   "source": [
    "## Stored in Data Structures:"
   ]
  },
  {
   "cell_type": "markdown",
   "id": "39a615ae-da06-45d3-9b4b-6ea11e4d603e",
   "metadata": {},
   "source": [
    "Functions can be stored in data structures like lists, dictionaries, or tuples."
   ]
  },
  {
   "cell_type": "code",
   "execution_count": 4,
   "id": "40f17c05-7581-4b82-a703-37d9d1905a14",
   "metadata": {},
   "outputs": [
    {
     "name": "stdout",
     "output_type": "stream",
     "text": [
      "9\n"
     ]
    }
   ],
   "source": [
    "def square(x):\n",
    "    return x ** 2\n",
    "\n",
    "def cube(x):\n",
    "    return x ** 3\n",
    "\n",
    "function_list = [square, cube]\n",
    "print(function_list[0](3))\n",
    "# Output: 9"
   ]
  },
  {
   "cell_type": "markdown",
   "id": "4df2ea02-ed08-4783-8286-022675e23739",
   "metadata": {},
   "source": [
    "# Higher-Order Functions:"
   ]
  },
  {
   "cell_type": "markdown",
   "id": "348b9e34-c192-48e6-9d81-cc3400bf8d35",
   "metadata": {},
   "source": [
    "A higher-order function is a function that either takes one or more functions as arguments or returns a function as its result. This concept is closely related to first-class functions. Higher-order functions provide a way to abstract over actions, allowing for more modular and reusable code."
   ]
  },
  {
   "cell_type": "markdown",
   "id": "5603e6a9-c2d6-4a6c-9a0b-86784bece45f",
   "metadata": {},
   "source": [
    "## Function as an Argument:"
   ]
  },
  {
   "cell_type": "code",
   "execution_count": 6,
   "id": "884610b1-9435-4988-adaa-9bbf4ce3e8f1",
   "metadata": {},
   "outputs": [
    {
     "name": "stdout",
     "output_type": "stream",
     "text": [
      "7\n",
      "12\n"
     ]
    }
   ],
   "source": [
    "def apply_operation(operation, x, y):\n",
    "    return operation(x, y)\n",
    "\n",
    "def add(x, y):\n",
    "    return x + y\n",
    "\n",
    "def multiply(x, y):\n",
    "    return x * y\n",
    "\n",
    "result_add = apply_operation(add, 3, 4)\n",
    "result_multiply = apply_operation(multiply, 3, 4)\n",
    "\n",
    "print(result_add)        # Output: 7\n",
    "print(result_multiply)   # Output: 12"
   ]
  },
  {
   "cell_type": "markdown",
   "id": "d91e8ec7-02fb-4e91-88e2-99dbcac69d85",
   "metadata": {},
   "source": [
    "## Function as a Return Value:"
   ]
  },
  {
   "cell_type": "code",
   "execution_count": 7,
   "id": "01760e27-4fdc-47fd-8b99-584f230711fa",
   "metadata": {},
   "outputs": [
    {
     "name": "stdout",
     "output_type": "stream",
     "text": [
      "10\n",
      "15\n"
     ]
    }
   ],
   "source": [
    "def create_multiplier(factor):\n",
    "    def multiplier(x):\n",
    "        return x * factor\n",
    "    return multiplier\n",
    "\n",
    "double = create_multiplier(2)\n",
    "triple = create_multiplier(3)\n",
    "\n",
    "print(double(5))  # Output: 10\n",
    "print(triple(5))  # Output: 15"
   ]
  },
  {
   "cell_type": "code",
   "execution_count": null,
   "id": "2f15e411-bc91-4f3f-b2dd-86566aca56c5",
   "metadata": {},
   "outputs": [],
   "source": []
  }
 ],
 "metadata": {
  "kernelspec": {
   "display_name": "Python 3 (ipykernel)",
   "language": "python",
   "name": "python3"
  },
  "language_info": {
   "codemirror_mode": {
    "name": "ipython",
    "version": 3
   },
   "file_extension": ".py",
   "mimetype": "text/x-python",
   "name": "python",
   "nbconvert_exporter": "python",
   "pygments_lexer": "ipython3",
   "version": "3.11.3"
  }
 },
 "nbformat": 4,
 "nbformat_minor": 5
}

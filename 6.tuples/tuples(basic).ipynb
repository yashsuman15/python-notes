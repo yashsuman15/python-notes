{
 "cells": [
  {
   "cell_type": "code",
   "execution_count": 1,
   "id": "4de390d5-132a-4feb-9e88-4750b3a0f376",
   "metadata": {},
   "outputs": [],
   "source": [
    "my_tuple = (1, 2, 3)\n",
    "empty_tuple = ()\n",
    "another_tuple = tuple([4, 5, 6])\n"
   ]
  },
  {
   "cell_type": "code",
   "execution_count": 2,
   "id": "396399af-27d3-4c35-b309-bbf6cc5142e7",
   "metadata": {},
   "outputs": [
    {
     "name": "stdout",
     "output_type": "stream",
     "text": [
      "1\n"
     ]
    }
   ],
   "source": [
    "print(my_tuple[0])  # Output: 1"
   ]
  },
  {
   "cell_type": "raw",
   "id": "90ba2cb8-4f9a-4fad-869d-86f54857e55d",
   "metadata": {},
   "source": [
    "# This will raise an error\n",
    "my_tuple[0] = 10\n"
   ]
  },
  {
   "cell_type": "markdown",
   "id": "c768a53a-d0d3-46a3-a15a-88c7634a2515",
   "metadata": {},
   "source": [
    "# Tuple Packing and Unpacking:"
   ]
  },
  {
   "cell_type": "code",
   "execution_count": 4,
   "id": "12a1c66d-a7a5-4aa1-85f2-0321e8c7461e",
   "metadata": {},
   "outputs": [],
   "source": [
    "packed_tuple = 1, 2, 3  # Tuple packing\n",
    "a, b, c = packed_tuple  # Tuple unpacking"
   ]
  },
  {
   "cell_type": "markdown",
   "id": "68406e0b-b5dd-4085-9d2d-8444f86992ef",
   "metadata": {},
   "source": [
    "# Tuple Methods:"
   ]
  },
  {
   "cell_type": "code",
   "execution_count": 5,
   "id": "73d037d8-3f78-4d4d-a682-0444ba90726e",
   "metadata": {},
   "outputs": [],
   "source": [
    "count = my_tuple.count(2)  # Count occurrences of 2\n",
    "index = my_tuple.index(3)  # Find index of 3"
   ]
  },
  {
   "cell_type": "code",
   "execution_count": 7,
   "id": "e64a405c-ea09-42c4-8aa3-a070655002da",
   "metadata": {},
   "outputs": [
    {
     "name": "stdout",
     "output_type": "stream",
     "text": [
      "1 2 3 "
     ]
    }
   ],
   "source": [
    "for item in my_tuple:\n",
    "    print(item, end=\" \")"
   ]
  },
  {
   "cell_type": "code",
   "execution_count": 8,
   "id": "639d2950-7ed1-4975-ad89-7d5dac28f171",
   "metadata": {},
   "outputs": [],
   "source": [
    "concatenated_tuple = my_tuple + another_tuple\n",
    "repeated_tuple = my_tuple * 3\n"
   ]
  },
  {
   "cell_type": "code",
   "execution_count": 9,
   "id": "47225d43-46f6-4174-bb24-52065e41a67d",
   "metadata": {},
   "outputs": [],
   "source": [
    "nested_tuple = (1, (2, 3), 4)"
   ]
  },
  {
   "cell_type": "code",
   "execution_count": 10,
   "id": "eb824426-ae5c-4a8d-ac10-47b1b70d3466",
   "metadata": {},
   "outputs": [],
   "source": [
    "first, *rest = my_tuple"
   ]
  },
  {
   "cell_type": "markdown",
   "id": "132a54b1-c334-46b8-be78-e7f7cfc0367e",
   "metadata": {},
   "source": [
    "# Tuple Comprehensions:"
   ]
  },
  {
   "cell_type": "code",
   "execution_count": 11,
   "id": "ac1019eb-b67a-498a-ae01-5af9bddd5034",
   "metadata": {},
   "outputs": [],
   "source": [
    "squared_tuple = tuple(x**2 for x in my_tuple)"
   ]
  },
  {
   "cell_type": "code",
   "execution_count": null,
   "id": "b088101f-746b-40a8-af23-dcba89bd9566",
   "metadata": {},
   "outputs": [],
   "source": []
  }
 ],
 "metadata": {
  "kernelspec": {
   "display_name": "Python 3 (ipykernel)",
   "language": "python",
   "name": "python3"
  },
  "language_info": {
   "codemirror_mode": {
    "name": "ipython",
    "version": 3
   },
   "file_extension": ".py",
   "mimetype": "text/x-python",
   "name": "python",
   "nbconvert_exporter": "python",
   "pygments_lexer": "ipython3",
   "version": "3.11.3"
  }
 },
 "nbformat": 4,
 "nbformat_minor": 5
}
